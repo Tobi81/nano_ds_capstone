{
 "cells": [
  {
   "cell_type": "markdown",
   "metadata": {},
   "source": [
    "# Capstone Project: Create a Customer Segmentation Report for Arvato Financial Services\n",
    "\n",
    "In this project, you will analyze demographics data for customers of a mail-order sales company in Germany, comparing it against demographics information for the general population. You'll use unsupervised learning techniques to perform customer segmentation, identifying the parts of the population that best describe the core customer base of the company. Then, you'll apply what you've learned on a third dataset with demographics information for targets of a marketing campaign for the company, and use a model to predict which individuals are most likely to convert into becoming customers for the company. The data that you will use has been provided by our partners at Bertelsmann Arvato Analytics, and represents a real-life data science task.\n",
    "\n",
    "If you completed the first term of this program, you will be familiar with the first part of this project, from the unsupervised learning project. The versions of those two datasets used in this project will include many more features and has not been pre-cleaned. You are also free to choose whatever approach you'd like to analyzing the data rather than follow pre-determined steps. In your work on this project, make sure that you carefully document your steps and decisions, since your main deliverable for this project will be a blog post reporting your findings."
   ]
  },
  {
   "cell_type": "code",
   "execution_count": 2,
   "metadata": {},
   "outputs": [],
   "source": [
    "# import libraries here; add more as necessary\n",
    "import numpy as np\n",
    "import pandas as pd\n",
    "import matplotlib.pyplot as plt\n",
    "import seaborn as sns\n",
    "import ast\n",
    "from time import time\n",
    "\n",
    "from sklearn.preprocessing import Imputer, StandardScaler\n",
    "from sklearn.decomposition import PCA\n",
    "from sklearn.cluster import KMeans\n",
    "from sklearn.model_selection import GridSearchCV\n",
    "from sklearn.linear_model import LogisticRegression\n",
    "from sklearn.ensemble import RandomForestClassifier\n",
    "from sklearn.ensemble import AdaBoostClassifier\n",
    "from sklearn.ensemble import GradientBoostingClassifier\n",
    "from sklearn.ensemble import BaggingClassifier\n",
    "from sklearn.pipeline import Pipeline\n",
    "\n",
    "# magic word for producing visualizations in notebook\n",
    "%matplotlib inline"
   ]
  },
  {
   "cell_type": "markdown",
   "metadata": {},
   "source": [
    "## Part 0: Get to Know the Data\n",
    "\n",
    "There are four data files associated with this project:\n",
    "\n",
    "- `Udacity_AZDIAS_052018.csv`: Demographics data for the general population of Germany; 891 211 persons (rows) x 366 features (columns).\n",
    "- `Udacity_CUSTOMERS_052018.csv`: Demographics data for customers of a mail-order company; 191 652 persons (rows) x 369 features (columns).\n",
    "- `Udacity_MAILOUT_052018_TRAIN.csv`: Demographics data for individuals who were targets of a marketing campaign; 42 982 persons (rows) x 367 (columns).\n",
    "- `Udacity_MAILOUT_052018_TEST.csv`: Demographics data for individuals who were targets of a marketing campaign; 42 833 persons (rows) x 366 (columns).\n",
    "\n",
    "Each row of the demographics files represents a single person, but also includes information outside of individuals, including information about their household, building, and neighborhood. Use the information from the first two files to figure out how customers (\"CUSTOMERS\") are similar to or differ from the general population at large (\"AZDIAS\"), then use your analysis to make predictions on the other two files (\"MAILOUT\"), predicting which recipients are most likely to become a customer for the mail-order company.\n",
    "\n",
    "The \"CUSTOMERS\" file contains three extra columns ('CUSTOMER_GROUP', 'ONLINE_PURCHASE', and 'PRODUCT_GROUP'), which provide broad information about the customers depicted in the file. The original \"MAILOUT\" file included one additional column, \"RESPONSE\", which indicated whether or not each recipient became a customer of the company. For the \"TRAIN\" subset, this column has been retained, but in the \"TEST\" subset it has been removed; it is against that withheld column that your final predictions will be assessed in the Kaggle competition.\n",
    "\n",
    "Otherwise, all of the remaining columns are the same between the three data files. For more information about the columns depicted in the files, you can refer to two Excel spreadsheets provided in the workspace. [One of them](./DIAS Information Levels - Attributes 2017.xlsx) is a top-level list of attributes and descriptions, organized by informational category. [The other](./DIAS Attributes - Values 2017.xlsx) is a detailed mapping of data values for each feature in alphabetical order.\n",
    "\n",
    "In the below cell, we've provided some initial code to load in the first two datasets. Note for all of the `.csv` data files in this project that they're semicolon (`;`) delimited, so an additional argument in the [`read_csv()`](https://pandas.pydata.org/pandas-docs/stable/generated/pandas.read_csv.html) call has been included to read in the data properly. Also, considering the size of the datasets, it may take some time for them to load completely.\n",
    "\n",
    "You'll notice when the data is loaded in that a warning message will immediately pop up. Before you really start digging into the modeling and analysis, you're going to need to perform some cleaning. Take some time to browse the structure of the data and look over the informational spreadsheets to understand the data values. Make some decisions on which features to keep, which features to drop, and if any revisions need to be made on data formats. It'll be a good idea to create a function with pre-processing steps, since you'll need to clean all of the datasets before you work with them."
   ]
  },
  {
   "cell_type": "markdown",
   "metadata": {},
   "source": [
    "### Read in data and basic evaluation"
   ]
  },
  {
   "cell_type": "code",
   "execution_count": 3,
   "metadata": {},
   "outputs": [
    {
     "name": "stderr",
     "output_type": "stream",
     "text": [
      "/opt/conda/lib/python3.6/site-packages/IPython/core/interactiveshell.py:2785: DtypeWarning: Columns (18,19) have mixed types. Specify dtype option on import or set low_memory=False.\n",
      "  interactivity=interactivity, compiler=compiler, result=result)\n"
     ]
    }
   ],
   "source": [
    "# read the data\n",
    "azdias = pd.read_csv('../../data/Term2/capstone/arvato_data/Udacity_AZDIAS_052018.csv', sep=';')\n",
    "customers = pd.read_csv('../../data/Term2/capstone/arvato_data/Udacity_CUSTOMERS_052018.csv', sep=';')"
   ]
  },
  {
   "cell_type": "code",
   "execution_count": 4,
   "metadata": {},
   "outputs": [
    {
     "data": {
      "text/html": [
       "<div>\n",
       "<style scoped>\n",
       "    .dataframe tbody tr th:only-of-type {\n",
       "        vertical-align: middle;\n",
       "    }\n",
       "\n",
       "    .dataframe tbody tr th {\n",
       "        vertical-align: top;\n",
       "    }\n",
       "\n",
       "    .dataframe thead th {\n",
       "        text-align: right;\n",
       "    }\n",
       "</style>\n",
       "<table border=\"1\" class=\"dataframe\">\n",
       "  <thead>\n",
       "    <tr style=\"text-align: right;\">\n",
       "      <th></th>\n",
       "      <th>LNR</th>\n",
       "      <th>AGER_TYP</th>\n",
       "      <th>AKT_DAT_KL</th>\n",
       "      <th>ALTER_HH</th>\n",
       "      <th>ALTER_KIND1</th>\n",
       "      <th>ALTER_KIND2</th>\n",
       "      <th>ALTER_KIND3</th>\n",
       "      <th>ALTER_KIND4</th>\n",
       "      <th>ALTERSKATEGORIE_FEIN</th>\n",
       "      <th>ANZ_HAUSHALTE_AKTIV</th>\n",
       "      <th>...</th>\n",
       "      <th>VHN</th>\n",
       "      <th>VK_DHT4A</th>\n",
       "      <th>VK_DISTANZ</th>\n",
       "      <th>VK_ZG11</th>\n",
       "      <th>W_KEIT_KIND_HH</th>\n",
       "      <th>WOHNDAUER_2008</th>\n",
       "      <th>WOHNLAGE</th>\n",
       "      <th>ZABEOTYP</th>\n",
       "      <th>ANREDE_KZ</th>\n",
       "      <th>ALTERSKATEGORIE_GROB</th>\n",
       "    </tr>\n",
       "  </thead>\n",
       "  <tbody>\n",
       "    <tr>\n",
       "      <th>0</th>\n",
       "      <td>910215</td>\n",
       "      <td>-1</td>\n",
       "      <td>NaN</td>\n",
       "      <td>NaN</td>\n",
       "      <td>NaN</td>\n",
       "      <td>NaN</td>\n",
       "      <td>NaN</td>\n",
       "      <td>NaN</td>\n",
       "      <td>NaN</td>\n",
       "      <td>NaN</td>\n",
       "      <td>...</td>\n",
       "      <td>NaN</td>\n",
       "      <td>NaN</td>\n",
       "      <td>NaN</td>\n",
       "      <td>NaN</td>\n",
       "      <td>NaN</td>\n",
       "      <td>NaN</td>\n",
       "      <td>NaN</td>\n",
       "      <td>3</td>\n",
       "      <td>1</td>\n",
       "      <td>2</td>\n",
       "    </tr>\n",
       "    <tr>\n",
       "      <th>1</th>\n",
       "      <td>910220</td>\n",
       "      <td>-1</td>\n",
       "      <td>9.0</td>\n",
       "      <td>0.0</td>\n",
       "      <td>NaN</td>\n",
       "      <td>NaN</td>\n",
       "      <td>NaN</td>\n",
       "      <td>NaN</td>\n",
       "      <td>21.0</td>\n",
       "      <td>11.0</td>\n",
       "      <td>...</td>\n",
       "      <td>4.0</td>\n",
       "      <td>8.0</td>\n",
       "      <td>11.0</td>\n",
       "      <td>10.0</td>\n",
       "      <td>3.0</td>\n",
       "      <td>9.0</td>\n",
       "      <td>4.0</td>\n",
       "      <td>5</td>\n",
       "      <td>2</td>\n",
       "      <td>1</td>\n",
       "    </tr>\n",
       "    <tr>\n",
       "      <th>2</th>\n",
       "      <td>910225</td>\n",
       "      <td>-1</td>\n",
       "      <td>9.0</td>\n",
       "      <td>17.0</td>\n",
       "      <td>NaN</td>\n",
       "      <td>NaN</td>\n",
       "      <td>NaN</td>\n",
       "      <td>NaN</td>\n",
       "      <td>17.0</td>\n",
       "      <td>10.0</td>\n",
       "      <td>...</td>\n",
       "      <td>2.0</td>\n",
       "      <td>9.0</td>\n",
       "      <td>9.0</td>\n",
       "      <td>6.0</td>\n",
       "      <td>3.0</td>\n",
       "      <td>9.0</td>\n",
       "      <td>2.0</td>\n",
       "      <td>5</td>\n",
       "      <td>2</td>\n",
       "      <td>3</td>\n",
       "    </tr>\n",
       "    <tr>\n",
       "      <th>3</th>\n",
       "      <td>910226</td>\n",
       "      <td>2</td>\n",
       "      <td>1.0</td>\n",
       "      <td>13.0</td>\n",
       "      <td>NaN</td>\n",
       "      <td>NaN</td>\n",
       "      <td>NaN</td>\n",
       "      <td>NaN</td>\n",
       "      <td>13.0</td>\n",
       "      <td>1.0</td>\n",
       "      <td>...</td>\n",
       "      <td>0.0</td>\n",
       "      <td>7.0</td>\n",
       "      <td>10.0</td>\n",
       "      <td>11.0</td>\n",
       "      <td>NaN</td>\n",
       "      <td>9.0</td>\n",
       "      <td>7.0</td>\n",
       "      <td>3</td>\n",
       "      <td>2</td>\n",
       "      <td>4</td>\n",
       "    </tr>\n",
       "    <tr>\n",
       "      <th>4</th>\n",
       "      <td>910241</td>\n",
       "      <td>-1</td>\n",
       "      <td>1.0</td>\n",
       "      <td>20.0</td>\n",
       "      <td>NaN</td>\n",
       "      <td>NaN</td>\n",
       "      <td>NaN</td>\n",
       "      <td>NaN</td>\n",
       "      <td>14.0</td>\n",
       "      <td>3.0</td>\n",
       "      <td>...</td>\n",
       "      <td>2.0</td>\n",
       "      <td>3.0</td>\n",
       "      <td>5.0</td>\n",
       "      <td>4.0</td>\n",
       "      <td>2.0</td>\n",
       "      <td>9.0</td>\n",
       "      <td>3.0</td>\n",
       "      <td>4</td>\n",
       "      <td>1</td>\n",
       "      <td>3</td>\n",
       "    </tr>\n",
       "  </tbody>\n",
       "</table>\n",
       "<p>5 rows × 366 columns</p>\n",
       "</div>"
      ],
      "text/plain": [
       "      LNR  AGER_TYP  AKT_DAT_KL  ALTER_HH  ALTER_KIND1  ALTER_KIND2  \\\n",
       "0  910215        -1         NaN       NaN          NaN          NaN   \n",
       "1  910220        -1         9.0       0.0          NaN          NaN   \n",
       "2  910225        -1         9.0      17.0          NaN          NaN   \n",
       "3  910226         2         1.0      13.0          NaN          NaN   \n",
       "4  910241        -1         1.0      20.0          NaN          NaN   \n",
       "\n",
       "   ALTER_KIND3  ALTER_KIND4  ALTERSKATEGORIE_FEIN  ANZ_HAUSHALTE_AKTIV  \\\n",
       "0          NaN          NaN                   NaN                  NaN   \n",
       "1          NaN          NaN                  21.0                 11.0   \n",
       "2          NaN          NaN                  17.0                 10.0   \n",
       "3          NaN          NaN                  13.0                  1.0   \n",
       "4          NaN          NaN                  14.0                  3.0   \n",
       "\n",
       "          ...           VHN  VK_DHT4A  VK_DISTANZ  VK_ZG11  W_KEIT_KIND_HH  \\\n",
       "0         ...           NaN       NaN         NaN      NaN             NaN   \n",
       "1         ...           4.0       8.0        11.0     10.0             3.0   \n",
       "2         ...           2.0       9.0         9.0      6.0             3.0   \n",
       "3         ...           0.0       7.0        10.0     11.0             NaN   \n",
       "4         ...           2.0       3.0         5.0      4.0             2.0   \n",
       "\n",
       "   WOHNDAUER_2008  WOHNLAGE ZABEOTYP ANREDE_KZ ALTERSKATEGORIE_GROB  \n",
       "0             NaN       NaN        3         1                    2  \n",
       "1             9.0       4.0        5         2                    1  \n",
       "2             9.0       2.0        5         2                    3  \n",
       "3             9.0       7.0        3         2                    4  \n",
       "4             9.0       3.0        4         1                    3  \n",
       "\n",
       "[5 rows x 366 columns]"
      ]
     },
     "execution_count": 4,
     "metadata": {},
     "output_type": "execute_result"
    }
   ],
   "source": [
    "azdias.head()"
   ]
  },
  {
   "cell_type": "code",
   "execution_count": 5,
   "metadata": {},
   "outputs": [
    {
     "name": "stdout",
     "output_type": "stream",
     "text": [
      "<class 'pandas.core.frame.DataFrame'>\n",
      "RangeIndex: 891221 entries, 0 to 891220\n",
      "Columns: 366 entries, LNR to ALTERSKATEGORIE_GROB\n",
      "dtypes: float64(267), int64(93), object(6)\n",
      "memory usage: 2.4+ GB\n"
     ]
    }
   ],
   "source": [
    "azdias.info()"
   ]
  },
  {
   "cell_type": "code",
   "execution_count": 6,
   "metadata": {},
   "outputs": [
    {
     "data": {
      "text/html": [
       "<div>\n",
       "<style scoped>\n",
       "    .dataframe tbody tr th:only-of-type {\n",
       "        vertical-align: middle;\n",
       "    }\n",
       "\n",
       "    .dataframe tbody tr th {\n",
       "        vertical-align: top;\n",
       "    }\n",
       "\n",
       "    .dataframe thead th {\n",
       "        text-align: right;\n",
       "    }\n",
       "</style>\n",
       "<table border=\"1\" class=\"dataframe\">\n",
       "  <thead>\n",
       "    <tr style=\"text-align: right;\">\n",
       "      <th></th>\n",
       "      <th>LNR</th>\n",
       "      <th>AGER_TYP</th>\n",
       "      <th>AKT_DAT_KL</th>\n",
       "      <th>ALTER_HH</th>\n",
       "      <th>ALTER_KIND1</th>\n",
       "      <th>ALTER_KIND2</th>\n",
       "      <th>ALTER_KIND3</th>\n",
       "      <th>ALTER_KIND4</th>\n",
       "      <th>ALTERSKATEGORIE_FEIN</th>\n",
       "      <th>ANZ_HAUSHALTE_AKTIV</th>\n",
       "      <th>...</th>\n",
       "      <th>VK_ZG11</th>\n",
       "      <th>W_KEIT_KIND_HH</th>\n",
       "      <th>WOHNDAUER_2008</th>\n",
       "      <th>WOHNLAGE</th>\n",
       "      <th>ZABEOTYP</th>\n",
       "      <th>PRODUCT_GROUP</th>\n",
       "      <th>CUSTOMER_GROUP</th>\n",
       "      <th>ONLINE_PURCHASE</th>\n",
       "      <th>ANREDE_KZ</th>\n",
       "      <th>ALTERSKATEGORIE_GROB</th>\n",
       "    </tr>\n",
       "  </thead>\n",
       "  <tbody>\n",
       "    <tr>\n",
       "      <th>0</th>\n",
       "      <td>9626</td>\n",
       "      <td>2</td>\n",
       "      <td>1.0</td>\n",
       "      <td>10.0</td>\n",
       "      <td>NaN</td>\n",
       "      <td>NaN</td>\n",
       "      <td>NaN</td>\n",
       "      <td>NaN</td>\n",
       "      <td>10.0</td>\n",
       "      <td>1.0</td>\n",
       "      <td>...</td>\n",
       "      <td>2.0</td>\n",
       "      <td>6.0</td>\n",
       "      <td>9.0</td>\n",
       "      <td>7.0</td>\n",
       "      <td>3</td>\n",
       "      <td>COSMETIC_AND_FOOD</td>\n",
       "      <td>MULTI_BUYER</td>\n",
       "      <td>0</td>\n",
       "      <td>1</td>\n",
       "      <td>4</td>\n",
       "    </tr>\n",
       "    <tr>\n",
       "      <th>1</th>\n",
       "      <td>9628</td>\n",
       "      <td>-1</td>\n",
       "      <td>9.0</td>\n",
       "      <td>11.0</td>\n",
       "      <td>NaN</td>\n",
       "      <td>NaN</td>\n",
       "      <td>NaN</td>\n",
       "      <td>NaN</td>\n",
       "      <td>NaN</td>\n",
       "      <td>NaN</td>\n",
       "      <td>...</td>\n",
       "      <td>3.0</td>\n",
       "      <td>0.0</td>\n",
       "      <td>9.0</td>\n",
       "      <td>NaN</td>\n",
       "      <td>3</td>\n",
       "      <td>FOOD</td>\n",
       "      <td>SINGLE_BUYER</td>\n",
       "      <td>0</td>\n",
       "      <td>1</td>\n",
       "      <td>4</td>\n",
       "    </tr>\n",
       "    <tr>\n",
       "      <th>2</th>\n",
       "      <td>143872</td>\n",
       "      <td>-1</td>\n",
       "      <td>1.0</td>\n",
       "      <td>6.0</td>\n",
       "      <td>NaN</td>\n",
       "      <td>NaN</td>\n",
       "      <td>NaN</td>\n",
       "      <td>NaN</td>\n",
       "      <td>0.0</td>\n",
       "      <td>1.0</td>\n",
       "      <td>...</td>\n",
       "      <td>11.0</td>\n",
       "      <td>6.0</td>\n",
       "      <td>9.0</td>\n",
       "      <td>2.0</td>\n",
       "      <td>3</td>\n",
       "      <td>COSMETIC_AND_FOOD</td>\n",
       "      <td>MULTI_BUYER</td>\n",
       "      <td>0</td>\n",
       "      <td>2</td>\n",
       "      <td>4</td>\n",
       "    </tr>\n",
       "    <tr>\n",
       "      <th>3</th>\n",
       "      <td>143873</td>\n",
       "      <td>1</td>\n",
       "      <td>1.0</td>\n",
       "      <td>8.0</td>\n",
       "      <td>NaN</td>\n",
       "      <td>NaN</td>\n",
       "      <td>NaN</td>\n",
       "      <td>NaN</td>\n",
       "      <td>8.0</td>\n",
       "      <td>0.0</td>\n",
       "      <td>...</td>\n",
       "      <td>2.0</td>\n",
       "      <td>NaN</td>\n",
       "      <td>9.0</td>\n",
       "      <td>7.0</td>\n",
       "      <td>1</td>\n",
       "      <td>COSMETIC</td>\n",
       "      <td>MULTI_BUYER</td>\n",
       "      <td>0</td>\n",
       "      <td>1</td>\n",
       "      <td>4</td>\n",
       "    </tr>\n",
       "    <tr>\n",
       "      <th>4</th>\n",
       "      <td>143874</td>\n",
       "      <td>-1</td>\n",
       "      <td>1.0</td>\n",
       "      <td>20.0</td>\n",
       "      <td>NaN</td>\n",
       "      <td>NaN</td>\n",
       "      <td>NaN</td>\n",
       "      <td>NaN</td>\n",
       "      <td>14.0</td>\n",
       "      <td>7.0</td>\n",
       "      <td>...</td>\n",
       "      <td>4.0</td>\n",
       "      <td>2.0</td>\n",
       "      <td>9.0</td>\n",
       "      <td>3.0</td>\n",
       "      <td>1</td>\n",
       "      <td>FOOD</td>\n",
       "      <td>MULTI_BUYER</td>\n",
       "      <td>0</td>\n",
       "      <td>1</td>\n",
       "      <td>3</td>\n",
       "    </tr>\n",
       "  </tbody>\n",
       "</table>\n",
       "<p>5 rows × 369 columns</p>\n",
       "</div>"
      ],
      "text/plain": [
       "      LNR  AGER_TYP  AKT_DAT_KL  ALTER_HH  ALTER_KIND1  ALTER_KIND2  \\\n",
       "0    9626         2         1.0      10.0          NaN          NaN   \n",
       "1    9628        -1         9.0      11.0          NaN          NaN   \n",
       "2  143872        -1         1.0       6.0          NaN          NaN   \n",
       "3  143873         1         1.0       8.0          NaN          NaN   \n",
       "4  143874        -1         1.0      20.0          NaN          NaN   \n",
       "\n",
       "   ALTER_KIND3  ALTER_KIND4  ALTERSKATEGORIE_FEIN  ANZ_HAUSHALTE_AKTIV  \\\n",
       "0          NaN          NaN                  10.0                  1.0   \n",
       "1          NaN          NaN                   NaN                  NaN   \n",
       "2          NaN          NaN                   0.0                  1.0   \n",
       "3          NaN          NaN                   8.0                  0.0   \n",
       "4          NaN          NaN                  14.0                  7.0   \n",
       "\n",
       "          ...           VK_ZG11  W_KEIT_KIND_HH  WOHNDAUER_2008  WOHNLAGE  \\\n",
       "0         ...               2.0             6.0             9.0       7.0   \n",
       "1         ...               3.0             0.0             9.0       NaN   \n",
       "2         ...              11.0             6.0             9.0       2.0   \n",
       "3         ...               2.0             NaN             9.0       7.0   \n",
       "4         ...               4.0             2.0             9.0       3.0   \n",
       "\n",
       "   ZABEOTYP      PRODUCT_GROUP  CUSTOMER_GROUP ONLINE_PURCHASE ANREDE_KZ  \\\n",
       "0         3  COSMETIC_AND_FOOD     MULTI_BUYER               0         1   \n",
       "1         3               FOOD    SINGLE_BUYER               0         1   \n",
       "2         3  COSMETIC_AND_FOOD     MULTI_BUYER               0         2   \n",
       "3         1           COSMETIC     MULTI_BUYER               0         1   \n",
       "4         1               FOOD     MULTI_BUYER               0         1   \n",
       "\n",
       "  ALTERSKATEGORIE_GROB  \n",
       "0                    4  \n",
       "1                    4  \n",
       "2                    4  \n",
       "3                    4  \n",
       "4                    3  \n",
       "\n",
       "[5 rows x 369 columns]"
      ]
     },
     "execution_count": 6,
     "metadata": {},
     "output_type": "execute_result"
    }
   ],
   "source": [
    "customers.head()"
   ]
  },
  {
   "cell_type": "code",
   "execution_count": 7,
   "metadata": {},
   "outputs": [
    {
     "name": "stdout",
     "output_type": "stream",
     "text": [
      "<class 'pandas.core.frame.DataFrame'>\n",
      "RangeIndex: 191652 entries, 0 to 191651\n",
      "Columns: 369 entries, LNR to ALTERSKATEGORIE_GROB\n",
      "dtypes: float64(267), int64(94), object(8)\n",
      "memory usage: 539.5+ MB\n"
     ]
    }
   ],
   "source": [
    "customers.info()"
   ]
  },
  {
   "cell_type": "markdown",
   "metadata": {},
   "source": [
    "### Data Preprocessing (Azdias)"
   ]
  },
  {
   "cell_type": "markdown",
   "metadata": {},
   "source": [
    "#### Step 1: Drop not described features"
   ]
  },
  {
   "cell_type": "markdown",
   "metadata": {},
   "source": [
    "With the help of the descriptive files an additional comma-separated values file was created manually. It sorts the features alphabetically, and maps both a type (categorical, mixed, numeric, ordinal) and values corresponding to missing information to each feature. \n",
    "\n",
    "The main problem during the file creation was the discrepancy between the features in the datasets and the descriptive files. For example features had slightly different names. But more important not all features could be found in the descriptive files. On the basis of further evaluation missing descriptions could be complemented."
   ]
  },
  {
   "cell_type": "code",
   "execution_count": 8,
   "metadata": {},
   "outputs": [],
   "source": [
    "# read in feature info file\n",
    "feat_info = pd.read_csv('./features.csv', sep=';', names=['Feature', 'Type', 'Unknown'])\n",
    "feat_list = feat_info['Feature'].tolist()"
   ]
  },
  {
   "cell_type": "code",
   "execution_count": 9,
   "metadata": {},
   "outputs": [
    {
     "data": {
      "text/html": [
       "<div>\n",
       "<style scoped>\n",
       "    .dataframe tbody tr th:only-of-type {\n",
       "        vertical-align: middle;\n",
       "    }\n",
       "\n",
       "    .dataframe tbody tr th {\n",
       "        vertical-align: top;\n",
       "    }\n",
       "\n",
       "    .dataframe thead th {\n",
       "        text-align: right;\n",
       "    }\n",
       "</style>\n",
       "<table border=\"1\" class=\"dataframe\">\n",
       "  <thead>\n",
       "    <tr style=\"text-align: right;\">\n",
       "      <th></th>\n",
       "      <th>Feature</th>\n",
       "      <th>Type</th>\n",
       "      <th>Unknown</th>\n",
       "    </tr>\n",
       "  </thead>\n",
       "  <tbody>\n",
       "    <tr>\n",
       "      <th>0</th>\n",
       "      <td>AGER_TYP</td>\n",
       "      <td>categorical</td>\n",
       "      <td>[-1,0]</td>\n",
       "    </tr>\n",
       "    <tr>\n",
       "      <th>1</th>\n",
       "      <td>ALTERSKATEGORIE_FEIN</td>\n",
       "      <td>ordinal</td>\n",
       "      <td>[-1,0.9]</td>\n",
       "    </tr>\n",
       "    <tr>\n",
       "      <th>2</th>\n",
       "      <td>ALTERSKATEGORIE_GROB</td>\n",
       "      <td>ordinal</td>\n",
       "      <td>[-1,0,9]</td>\n",
       "    </tr>\n",
       "    <tr>\n",
       "      <th>3</th>\n",
       "      <td>ALTER_HH</td>\n",
       "      <td>ordinal</td>\n",
       "      <td>[0]</td>\n",
       "    </tr>\n",
       "    <tr>\n",
       "      <th>4</th>\n",
       "      <td>ANREDE_KZ</td>\n",
       "      <td>categorical</td>\n",
       "      <td>[-1,0]</td>\n",
       "    </tr>\n",
       "    <tr>\n",
       "      <th>5</th>\n",
       "      <td>ANZ_HAUSHALTE_AKTIV</td>\n",
       "      <td>numeric</td>\n",
       "      <td>[]</td>\n",
       "    </tr>\n",
       "    <tr>\n",
       "      <th>6</th>\n",
       "      <td>ANZ_HH_TITEL</td>\n",
       "      <td>numeric</td>\n",
       "      <td>[]</td>\n",
       "    </tr>\n",
       "    <tr>\n",
       "      <th>7</th>\n",
       "      <td>ANZ_KINDER</td>\n",
       "      <td>numeric</td>\n",
       "      <td>[]</td>\n",
       "    </tr>\n",
       "    <tr>\n",
       "      <th>8</th>\n",
       "      <td>ANZ_PERSONEN</td>\n",
       "      <td>numeric</td>\n",
       "      <td>[]</td>\n",
       "    </tr>\n",
       "    <tr>\n",
       "      <th>9</th>\n",
       "      <td>ANZ_STATISTISCHE_HAUSHALTE</td>\n",
       "      <td>numeric</td>\n",
       "      <td>[]</td>\n",
       "    </tr>\n",
       "    <tr>\n",
       "      <th>10</th>\n",
       "      <td>ANZ_TITEL</td>\n",
       "      <td>numeric</td>\n",
       "      <td>[]</td>\n",
       "    </tr>\n",
       "    <tr>\n",
       "      <th>11</th>\n",
       "      <td>ARBEIT</td>\n",
       "      <td>ordinal</td>\n",
       "      <td>[9]</td>\n",
       "    </tr>\n",
       "    <tr>\n",
       "      <th>12</th>\n",
       "      <td>BALLRAUM</td>\n",
       "      <td>ordinal</td>\n",
       "      <td>[-1]</td>\n",
       "    </tr>\n",
       "    <tr>\n",
       "      <th>13</th>\n",
       "      <td>CAMEO_DEUG_2015</td>\n",
       "      <td>categorical</td>\n",
       "      <td>['-1','X']</td>\n",
       "    </tr>\n",
       "    <tr>\n",
       "      <th>14</th>\n",
       "      <td>CAMEO_DEU_2015</td>\n",
       "      <td>categorical</td>\n",
       "      <td>['XX']</td>\n",
       "    </tr>\n",
       "  </tbody>\n",
       "</table>\n",
       "</div>"
      ],
      "text/plain": [
       "                       Feature         Type     Unknown\n",
       "0                     AGER_TYP  categorical      [-1,0]\n",
       "1         ALTERSKATEGORIE_FEIN      ordinal    [-1,0.9]\n",
       "2         ALTERSKATEGORIE_GROB      ordinal    [-1,0,9]\n",
       "3                     ALTER_HH      ordinal         [0]\n",
       "4                    ANREDE_KZ  categorical      [-1,0]\n",
       "5          ANZ_HAUSHALTE_AKTIV      numeric          []\n",
       "6                 ANZ_HH_TITEL      numeric          []\n",
       "7                   ANZ_KINDER      numeric          []\n",
       "8                 ANZ_PERSONEN      numeric          []\n",
       "9   ANZ_STATISTISCHE_HAUSHALTE      numeric          []\n",
       "10                   ANZ_TITEL      numeric          []\n",
       "11                      ARBEIT      ordinal         [9]\n",
       "12                    BALLRAUM      ordinal        [-1]\n",
       "13             CAMEO_DEUG_2015  categorical  ['-1','X']\n",
       "14              CAMEO_DEU_2015  categorical      ['XX']"
      ]
     },
     "execution_count": 9,
     "metadata": {},
     "output_type": "execute_result"
    }
   ],
   "source": [
    "feat_info.head(15)"
   ]
  },
  {
   "cell_type": "code",
   "execution_count": 10,
   "metadata": {},
   "outputs": [
    {
     "name": "stdout",
     "output_type": "stream",
     "text": [
      "Features in feat_list that are not in azdias:\n",
      "0\n",
      "[]\n",
      "***\n",
      "Features in azdias that are not in feat_list:\n",
      "32\n",
      "['LNR', 'RT_SCHNAEPPCHEN', 'VK_DISTANZ', 'EINGEFUEGT_AM', 'CJT_TYP_6', 'AKT_DAT_KL', 'VERDICHTUNGSRAUM', 'ALTER_KIND4', 'VK_ZG11', 'UMFELD_ALT', 'CJT_TYP_1', 'VHN', 'RT_KEIN_ANREIZ', 'CJT_TYP_5', 'D19_LETZTER_KAUF_BRANCHE', 'FIRMENDICHTE', 'CJT_KATALOGNUTZER', 'EXTSEL992', 'GEMEINDETYP', 'CJT_TYP_3', 'UMFELD_JUNG', 'CJT_TYP_2', 'ALTER_KIND1', 'VK_DHT4A', 'ALTER_KIND2', 'CJT_TYP_4', 'KOMBIALTER', 'VHA', 'RT_UEBERGROESSE', 'ALTER_KIND3', 'D19_KONSUMTYP_MAX', 'STRUKTURTYP']\n",
      "***\n",
      "Features in customers that are not in azdias:\n",
      "3\n",
      "['PRODUCT_GROUP', 'ONLINE_PURCHASE', 'CUSTOMER_GROUP']\n",
      "***\n"
     ]
    }
   ],
   "source": [
    "# should be an empty array\n",
    "diff_not_in_feat = list(set(feat_list) - set(azdias))\n",
    "print('Features in feat_list that are not in azdias:')\n",
    "print(len(diff_not_in_feat))\n",
    "print(diff_not_in_feat)\n",
    "print('***')\n",
    "\n",
    "# features that are not in feat_info (no information regarding type)\n",
    "diff_not_in_azdias = list(set(azdias) - set(feat_list))\n",
    "print('Features in azdias that are not in feat_list:')\n",
    "print(len(diff_not_in_azdias))\n",
    "print(diff_not_in_azdias)\n",
    "print('***')\n",
    "\n",
    "# should be ['PRODUCT_GROUP', 'ONLINE_PURCHASE', 'CUSTOMER_GROUP']\n",
    "diff_customers_azdias = list(set(customers) - set(azdias))\n",
    "print('Features in customers that are not in azdias:')\n",
    "print(len(diff_customers_azdias))\n",
    "print(diff_customers_azdias)\n",
    "print('***')"
   ]
  },
  {
   "cell_type": "code",
   "execution_count": 11,
   "metadata": {},
   "outputs": [],
   "source": [
    "# drop features\n",
    "azdias.drop(labels=diff_not_in_azdias, axis=1, inplace=True)"
   ]
  },
  {
   "cell_type": "code",
   "execution_count": 12,
   "metadata": {},
   "outputs": [
    {
     "data": {
      "text/plain": [
       "(891221, 334)"
      ]
     },
     "execution_count": 12,
     "metadata": {},
     "output_type": "execute_result"
    }
   ],
   "source": [
    "azdias.shape"
   ]
  },
  {
   "cell_type": "markdown",
   "metadata": {},
   "source": [
    "#### Step 2: Convert missing or unknown values to NaN"
   ]
  },
  {
   "cell_type": "markdown",
   "metadata": {},
   "source": [
    "The manually created feature info file contains all values corresponding to missing information. Additionally to the already existing NaN values in the datasets these placeholders have to be converted to NaN values."
   ]
  },
  {
   "cell_type": "code",
   "execution_count": 15,
   "metadata": {},
   "outputs": [
    {
     "data": {
      "text/plain": [
       "Feature\n",
       "AGER_TYP                           [-1,0]\n",
       "ALTERSKATEGORIE_FEIN             [-1,0.9]\n",
       "ALTERSKATEGORIE_GROB             [-1,0,9]\n",
       "ALTER_HH                              [0]\n",
       "ANREDE_KZ                          [-1,0]\n",
       "ANZ_HAUSHALTE_AKTIV                    []\n",
       "ANZ_HH_TITEL                           []\n",
       "ANZ_KINDER                             []\n",
       "ANZ_PERSONEN                           []\n",
       "ANZ_STATISTISCHE_HAUSHALTE             []\n",
       "ANZ_TITEL                              []\n",
       "ARBEIT                                [9]\n",
       "BALLRAUM                             [-1]\n",
       "CAMEO_DEUG_2015                ['-1','X']\n",
       "CAMEO_DEU_2015                     ['XX']\n",
       "CAMEO_INTL_2015               ['-1','XX']\n",
       "CJT_GESAMTTYP                         [0]\n",
       "D19_BANKEN_ANZ_12                     [0]\n",
       "D19_BANKEN_ANZ_24                     [0]\n",
       "D19_BANKEN_DATUM                     [10]\n",
       "D19_BANKEN_DIREKT                     [0]\n",
       "D19_BANKEN_GROSS                      [0]\n",
       "D19_BANKEN_LOKAL                      [0]\n",
       "D19_BANKEN_OFFLINE_DATUM             [10]\n",
       "D19_BANKEN_ONLINE_DATUM              [10]\n",
       "D19_BANKEN_ONLINE_QUOTE_12            [0]\n",
       "D19_BANKEN_REST                       [0]\n",
       "D19_BEKLEIDUNG_GEH                    [0]\n",
       "D19_BEKLEIDUNG_REST                   [0]\n",
       "D19_BILDUNG                           [0]\n",
       "                                 ...     \n",
       "PLZ8_BAUMAX                        [-1,0]\n",
       "PLZ8_GBZ                             [-1]\n",
       "PLZ8_HHZ                             [-1]\n",
       "PRAEGENDE_JUGENDJAHRE              [-1,0]\n",
       "REGIOTYP                           [-1,0]\n",
       "RELAT_AB                           [-1,9]\n",
       "RETOURTYP_BK_S                        [0]\n",
       "SEMIO_DOM                          [-1,9]\n",
       "SEMIO_ERL                          [-1,9]\n",
       "SEMIO_FAM                          [-1,9]\n",
       "SEMIO_KAEM                         [-1,9]\n",
       "SEMIO_KRIT                         [-1,9]\n",
       "SEMIO_KULT                         [-1,9]\n",
       "SEMIO_LUST                         [-1,9]\n",
       "SEMIO_MAT                          [-1,9]\n",
       "SEMIO_PFLICHT                      [-1,9]\n",
       "SEMIO_RAT                          [-1,9]\n",
       "SEMIO_REL                          [-1,9]\n",
       "SEMIO_SOZ                          [-1,9]\n",
       "SEMIO_TRADV                        [-1,9]\n",
       "SEMIO_VERT                         [-1,9]\n",
       "SHOPPER_TYP                          [-1]\n",
       "SOHO_KZ                                []\n",
       "TITEL_KZ                           [-1,0]\n",
       "UNGLEICHENN_FLAG                       []\n",
       "VERS_TYP                             [-1]\n",
       "WOHNDAUER_2008                     [-1,0]\n",
       "WOHNLAGE                           [-1,0]\n",
       "W_KEIT_KIND_HH                     [-1,0]\n",
       "ZABEOTYP                           [-1,9]\n",
       "Length: 334, dtype: object"
      ]
     },
     "execution_count": 15,
     "metadata": {},
     "output_type": "execute_result"
    }
   ],
   "source": [
    "unknown = pd.Series(feat_info['Unknown'].values, index=feat_info['Feature'])\n",
    "unknown"
   ]
  },
  {
   "cell_type": "code",
   "execution_count": 16,
   "metadata": {},
   "outputs": [
    {
     "data": {
      "text/html": [
       "<div>\n",
       "<style scoped>\n",
       "    .dataframe tbody tr th:only-of-type {\n",
       "        vertical-align: middle;\n",
       "    }\n",
       "\n",
       "    .dataframe tbody tr th {\n",
       "        vertical-align: top;\n",
       "    }\n",
       "\n",
       "    .dataframe thead th {\n",
       "        text-align: right;\n",
       "    }\n",
       "</style>\n",
       "<table border=\"1\" class=\"dataframe\">\n",
       "  <thead>\n",
       "    <tr style=\"text-align: right;\">\n",
       "      <th></th>\n",
       "      <th>AGER_TYP</th>\n",
       "      <th>ALTER_HH</th>\n",
       "      <th>ALTERSKATEGORIE_FEIN</th>\n",
       "      <th>ANZ_HAUSHALTE_AKTIV</th>\n",
       "      <th>ANZ_HH_TITEL</th>\n",
       "      <th>ANZ_KINDER</th>\n",
       "      <th>ANZ_PERSONEN</th>\n",
       "      <th>ANZ_STATISTISCHE_HAUSHALTE</th>\n",
       "      <th>ANZ_TITEL</th>\n",
       "      <th>ARBEIT</th>\n",
       "      <th>...</th>\n",
       "      <th>SOHO_KZ</th>\n",
       "      <th>TITEL_KZ</th>\n",
       "      <th>UNGLEICHENN_FLAG</th>\n",
       "      <th>VERS_TYP</th>\n",
       "      <th>W_KEIT_KIND_HH</th>\n",
       "      <th>WOHNDAUER_2008</th>\n",
       "      <th>WOHNLAGE</th>\n",
       "      <th>ZABEOTYP</th>\n",
       "      <th>ANREDE_KZ</th>\n",
       "      <th>ALTERSKATEGORIE_GROB</th>\n",
       "    </tr>\n",
       "  </thead>\n",
       "  <tbody>\n",
       "    <tr>\n",
       "      <th>0</th>\n",
       "      <td>NaN</td>\n",
       "      <td>NaN</td>\n",
       "      <td>NaN</td>\n",
       "      <td>NaN</td>\n",
       "      <td>NaN</td>\n",
       "      <td>NaN</td>\n",
       "      <td>NaN</td>\n",
       "      <td>NaN</td>\n",
       "      <td>NaN</td>\n",
       "      <td>NaN</td>\n",
       "      <td>...</td>\n",
       "      <td>NaN</td>\n",
       "      <td>NaN</td>\n",
       "      <td>NaN</td>\n",
       "      <td>NaN</td>\n",
       "      <td>NaN</td>\n",
       "      <td>NaN</td>\n",
       "      <td>NaN</td>\n",
       "      <td>3</td>\n",
       "      <td>1</td>\n",
       "      <td>2.0</td>\n",
       "    </tr>\n",
       "    <tr>\n",
       "      <th>1</th>\n",
       "      <td>NaN</td>\n",
       "      <td>NaN</td>\n",
       "      <td>21.0</td>\n",
       "      <td>11.0</td>\n",
       "      <td>0.0</td>\n",
       "      <td>0.0</td>\n",
       "      <td>2.0</td>\n",
       "      <td>12.0</td>\n",
       "      <td>0.0</td>\n",
       "      <td>3.0</td>\n",
       "      <td>...</td>\n",
       "      <td>1.0</td>\n",
       "      <td>NaN</td>\n",
       "      <td>1.0</td>\n",
       "      <td>2.0</td>\n",
       "      <td>3.0</td>\n",
       "      <td>9.0</td>\n",
       "      <td>4.0</td>\n",
       "      <td>5</td>\n",
       "      <td>2</td>\n",
       "      <td>1.0</td>\n",
       "    </tr>\n",
       "    <tr>\n",
       "      <th>2</th>\n",
       "      <td>NaN</td>\n",
       "      <td>17.0</td>\n",
       "      <td>17.0</td>\n",
       "      <td>10.0</td>\n",
       "      <td>0.0</td>\n",
       "      <td>0.0</td>\n",
       "      <td>1.0</td>\n",
       "      <td>7.0</td>\n",
       "      <td>0.0</td>\n",
       "      <td>3.0</td>\n",
       "      <td>...</td>\n",
       "      <td>0.0</td>\n",
       "      <td>NaN</td>\n",
       "      <td>0.0</td>\n",
       "      <td>1.0</td>\n",
       "      <td>3.0</td>\n",
       "      <td>9.0</td>\n",
       "      <td>2.0</td>\n",
       "      <td>5</td>\n",
       "      <td>2</td>\n",
       "      <td>3.0</td>\n",
       "    </tr>\n",
       "    <tr>\n",
       "      <th>3</th>\n",
       "      <td>2.0</td>\n",
       "      <td>13.0</td>\n",
       "      <td>13.0</td>\n",
       "      <td>1.0</td>\n",
       "      <td>0.0</td>\n",
       "      <td>0.0</td>\n",
       "      <td>0.0</td>\n",
       "      <td>2.0</td>\n",
       "      <td>0.0</td>\n",
       "      <td>2.0</td>\n",
       "      <td>...</td>\n",
       "      <td>0.0</td>\n",
       "      <td>NaN</td>\n",
       "      <td>0.0</td>\n",
       "      <td>1.0</td>\n",
       "      <td>NaN</td>\n",
       "      <td>9.0</td>\n",
       "      <td>7.0</td>\n",
       "      <td>3</td>\n",
       "      <td>2</td>\n",
       "      <td>4.0</td>\n",
       "    </tr>\n",
       "    <tr>\n",
       "      <th>4</th>\n",
       "      <td>NaN</td>\n",
       "      <td>20.0</td>\n",
       "      <td>14.0</td>\n",
       "      <td>3.0</td>\n",
       "      <td>0.0</td>\n",
       "      <td>0.0</td>\n",
       "      <td>4.0</td>\n",
       "      <td>3.0</td>\n",
       "      <td>0.0</td>\n",
       "      <td>4.0</td>\n",
       "      <td>...</td>\n",
       "      <td>0.0</td>\n",
       "      <td>NaN</td>\n",
       "      <td>0.0</td>\n",
       "      <td>2.0</td>\n",
       "      <td>2.0</td>\n",
       "      <td>9.0</td>\n",
       "      <td>3.0</td>\n",
       "      <td>4</td>\n",
       "      <td>1</td>\n",
       "      <td>3.0</td>\n",
       "    </tr>\n",
       "  </tbody>\n",
       "</table>\n",
       "<p>5 rows × 334 columns</p>\n",
       "</div>"
      ],
      "text/plain": [
       "   AGER_TYP  ALTER_HH  ALTERSKATEGORIE_FEIN  ANZ_HAUSHALTE_AKTIV  \\\n",
       "0       NaN       NaN                   NaN                  NaN   \n",
       "1       NaN       NaN                  21.0                 11.0   \n",
       "2       NaN      17.0                  17.0                 10.0   \n",
       "3       2.0      13.0                  13.0                  1.0   \n",
       "4       NaN      20.0                  14.0                  3.0   \n",
       "\n",
       "   ANZ_HH_TITEL  ANZ_KINDER  ANZ_PERSONEN  ANZ_STATISTISCHE_HAUSHALTE  \\\n",
       "0           NaN         NaN           NaN                         NaN   \n",
       "1           0.0         0.0           2.0                        12.0   \n",
       "2           0.0         0.0           1.0                         7.0   \n",
       "3           0.0         0.0           0.0                         2.0   \n",
       "4           0.0         0.0           4.0                         3.0   \n",
       "\n",
       "   ANZ_TITEL  ARBEIT          ...           SOHO_KZ TITEL_KZ UNGLEICHENN_FLAG  \\\n",
       "0        NaN     NaN          ...               NaN      NaN              NaN   \n",
       "1        0.0     3.0          ...               1.0      NaN              1.0   \n",
       "2        0.0     3.0          ...               0.0      NaN              0.0   \n",
       "3        0.0     2.0          ...               0.0      NaN              0.0   \n",
       "4        0.0     4.0          ...               0.0      NaN              0.0   \n",
       "\n",
       "  VERS_TYP  W_KEIT_KIND_HH  WOHNDAUER_2008  WOHNLAGE  ZABEOTYP  ANREDE_KZ  \\\n",
       "0      NaN             NaN             NaN       NaN         3          1   \n",
       "1      2.0             3.0             9.0       4.0         5          2   \n",
       "2      1.0             3.0             9.0       2.0         5          2   \n",
       "3      1.0             NaN             9.0       7.0         3          2   \n",
       "4      2.0             2.0             9.0       3.0         4          1   \n",
       "\n",
       "   ALTERSKATEGORIE_GROB  \n",
       "0                   2.0  \n",
       "1                   1.0  \n",
       "2                   3.0  \n",
       "3                   4.0  \n",
       "4                   3.0  \n",
       "\n",
       "[5 rows x 334 columns]"
      ]
     },
     "execution_count": 16,
     "metadata": {},
     "output_type": "execute_result"
    }
   ],
   "source": [
    "for col in azdias:\n",
    "    isin = ast.literal_eval(unknown[col])\n",
    "    azdias[col] = azdias[col].mask(azdias[col].isin(isin), other=np.nan)\n",
    "\n",
    "azdias.head()"
   ]
  },
  {
   "cell_type": "markdown",
   "metadata": {},
   "source": [
    "#### Step 3: Drop columns because of too many NaNs"
   ]
  },
  {
   "cell_type": "code",
   "execution_count": 17,
   "metadata": {},
   "outputs": [],
   "source": [
    "# calculate the percentage of missing values per feature\n",
    "missing_per_column = azdias.isnull().mean()"
   ]
  },
  {
   "cell_type": "code",
   "execution_count": 27,
   "metadata": {},
   "outputs": [
    {
     "data": {
      "text/plain": [
       "(array([  32.,    0.,    0.,   10.,  146.,   13.,   58.,    2.,    0.,\n",
       "           0.,    0.,    2.,    0.,    1.,    0.,    1.,    0.,    1.,\n",
       "           0.,    1.,    1.,    1.,    3.,    0.,    0.,    2.,    3.,\n",
       "           1.,    3.,    4.,    3.,    1.,    5.,    4.,    6.,    3.,\n",
       "           7.,    5.,    8.,    7.]),\n",
       " array([ 0.        ,  0.0249779 ,  0.04995579,  0.07493369,  0.09991158,\n",
       "         0.12488948,  0.14986737,  0.17484527,  0.19982316,  0.22480106,\n",
       "         0.24977895,  0.27475685,  0.29973475,  0.32471264,  0.34969054,\n",
       "         0.37466843,  0.39964633,  0.42462422,  0.44960212,  0.47458001,\n",
       "         0.49955791,  0.52453581,  0.5495137 ,  0.5744916 ,  0.59946949,\n",
       "         0.62444739,  0.64942528,  0.67440318,  0.69938107,  0.72435897,\n",
       "         0.74933686,  0.77431476,  0.79929266,  0.82427055,  0.84924845,\n",
       "         0.87422634,  0.89920424,  0.92418213,  0.94916003,  0.97413792,\n",
       "         0.99911582]),\n",
       " <a list of 40 Patch objects>)"
      ]
     },
     "execution_count": 27,
     "metadata": {},
     "output_type": "execute_result"
    },
    {
     "data": {
      "image/png": "[encoded data removed]",
      "text/plain": [
       "<matplotlib.figure.Figure at 0x7f7579781a90>"
      ]
     },
     "metadata": {
      "needs_background": "light"
     },
     "output_type": "display_data"
    }
   ],
   "source": [
    "plt.hist(missing_per_column, bins=40)"
   ]
  },
  {
   "cell_type": "code",
   "execution_count": 20,
   "metadata": {},
   "outputs": [],
   "source": [
    "# features to be dropped have more than 20% missing values \n",
    "drop_missing_per_column = missing_per_column[missing_per_column > 0.2].index\n",
    "\n",
    "# drop features\n",
    "azdias.drop(labels=drop_missing_per_column, axis=1, inplace=True)"
   ]
  },
  {
   "cell_type": "code",
   "execution_count": 21,
   "metadata": {},
   "outputs": [
    {
     "data": {
      "text/plain": [
       "Index(['AGER_TYP', 'ALTER_HH', 'ALTERSKATEGORIE_FEIN', 'D19_BANKEN_ANZ_12',\n",
       "       'D19_BANKEN_ANZ_24', 'D19_BANKEN_DATUM', 'D19_BANKEN_DIREKT',\n",
       "       'D19_BANKEN_GROSS', 'D19_BANKEN_LOKAL', 'D19_BANKEN_OFFLINE_DATUM',\n",
       "       'D19_BANKEN_ONLINE_DATUM', 'D19_BANKEN_ONLINE_QUOTE_12',\n",
       "       'D19_BANKEN_REST', 'D19_BEKLEIDUNG_GEH', 'D19_BEKLEIDUNG_REST',\n",
       "       'D19_BILDUNG', 'D19_BIO_OEKO', 'D19_BUCH_CD', 'D19_DIGIT_SERV',\n",
       "       'D19_DROGERIEARTIKEL', 'D19_ENERGIE', 'D19_FREIZEIT', 'D19_GARTEN',\n",
       "       'D19_GESAMT_ANZ_12', 'D19_GESAMT_ANZ_24', 'D19_GESAMT_DATUM',\n",
       "       'D19_GESAMT_OFFLINE_DATUM', 'D19_GESAMT_ONLINE_DATUM',\n",
       "       'D19_GESAMT_ONLINE_QUOTE_12', 'D19_HANDWERK', 'D19_HAUS_DEKO',\n",
       "       'D19_KINDERARTIKEL', 'D19_KONSUMTYP', 'D19_KOSMETIK',\n",
       "       'D19_LEBENSMITTEL', 'D19_LOTTO', 'D19_NAHRUNGSERGAENZUNG',\n",
       "       'D19_RATGEBER', 'D19_REISEN', 'D19_SAMMELARTIKEL', 'D19_SCHUHE',\n",
       "       'D19_SONSTIGE', 'D19_SOZIALES', 'D19_TECHNIK', 'D19_TELKO_ANZ_12',\n",
       "       'D19_TELKO_ANZ_24', 'D19_TELKO_DATUM', 'D19_TELKO_MOBILE',\n",
       "       'D19_TELKO_OFFLINE_DATUM', 'D19_TELKO_ONLINE_DATUM',\n",
       "       'D19_TELKO_ONLINE_QUOTE_12', 'D19_TELKO_REST', 'D19_TIERARTIKEL',\n",
       "       'D19_VERSAND_ANZ_12', 'D19_VERSAND_ANZ_24', 'D19_VERSAND_DATUM',\n",
       "       'D19_VERSAND_OFFLINE_DATUM', 'D19_VERSAND_ONLINE_DATUM',\n",
       "       'D19_VERSAND_ONLINE_QUOTE_12', 'D19_VERSAND_REST', 'D19_VERSI_ANZ_12',\n",
       "       'D19_VERSI_ANZ_24', 'D19_VERSI_DATUM', 'D19_VERSI_OFFLINE_DATUM',\n",
       "       'D19_VERSI_ONLINE_DATUM', 'D19_VERSI_ONLINE_QUOTE_12',\n",
       "       'D19_VERSICHERUNGEN', 'D19_VOLLSORTIMENT', 'D19_WEIN_FEINKOST',\n",
       "       'GEBURTSJAHR', 'KBA05_BAUMAX', 'KK_KUNDENTYP', 'TITEL_KZ'],\n",
       "      dtype='object')"
      ]
     },
     "execution_count": 21,
     "metadata": {},
     "output_type": "execute_result"
    }
   ],
   "source": [
    "# what features have been dropped\n",
    "drop_missing_per_column"
   ]
  },
  {
   "cell_type": "code",
   "execution_count": 22,
   "metadata": {},
   "outputs": [
    {
     "data": {
      "text/plain": [
       "(891221, 261)"
      ]
     },
     "execution_count": 22,
     "metadata": {},
     "output_type": "execute_result"
    }
   ],
   "source": [
    "azdias.shape"
   ]
  },
  {
   "cell_type": "markdown",
   "metadata": {},
   "source": [
    "#### Step 4: Drop rows because of too many NaNs"
   ]
  },
  {
   "cell_type": "code",
   "execution_count": 23,
   "metadata": {},
   "outputs": [],
   "source": [
    "# calculate the percentage of missing values per individual\n",
    "missing_per_row = azdias.isnull().sum(axis=1)"
   ]
  },
  {
   "cell_type": "code",
   "execution_count": 28,
   "metadata": {},
   "outputs": [
    {
     "data": {
      "text/plain": [
       "(array([  6.54805000e+05,   3.21760000e+04,   3.39930000e+04,\n",
       "          1.46810000e+04,   9.99000000e+02,   5.42000000e+02,\n",
       "          8.40000000e+01,   7.00000000e+00,   0.00000000e+00,\n",
       "          1.00000000e+00,   0.00000000e+00,   0.00000000e+00,\n",
       "          0.00000000e+00,   0.00000000e+00,   0.00000000e+00,\n",
       "          0.00000000e+00,   0.00000000e+00,   0.00000000e+00,\n",
       "          0.00000000e+00,   0.00000000e+00,   0.00000000e+00,\n",
       "          5.60000000e+01,   8.77900000e+03,   3.24900000e+03,\n",
       "          9.50100000e+03,   1.60590000e+04,   8.59000000e+02,\n",
       "          3.69800000e+03,   4.85900000e+03,   6.04000000e+02,\n",
       "          2.05000000e+02,   2.11000000e+02,   4.80000000e+01,\n",
       "          3.00000000e+00,   2.00000000e+00,   0.00000000e+00,\n",
       "          0.00000000e+00,   0.00000000e+00,   0.00000000e+00,\n",
       "          0.00000000e+00,   0.00000000e+00,   0.00000000e+00,\n",
       "          0.00000000e+00,   0.00000000e+00,   0.00000000e+00,\n",
       "          5.06000000e+02,   9.50000000e+01,   3.80000000e+01,\n",
       "          4.09000000e+03,   6.41000000e+02,   1.90000000e+02,\n",
       "          2.04000000e+02,   4.50000000e+01,   1.30000000e+01,\n",
       "          1.00000000e+00,   0.00000000e+00,   0.00000000e+00,\n",
       "          0.00000000e+00,   0.00000000e+00,   0.00000000e+00,\n",
       "          0.00000000e+00,   0.00000000e+00,   0.00000000e+00,\n",
       "          0.00000000e+00,   0.00000000e+00,   0.00000000e+00,\n",
       "          0.00000000e+00,   5.00000000e+00,   1.40000000e+01,\n",
       "          8.00000000e+00,   1.93000000e+02,   5.39000000e+02,\n",
       "          4.60000000e+01,   3.05200000e+03,   1.33700000e+03,\n",
       "          1.28700000e+03,   1.39000000e+02,   1.38000000e+02,\n",
       "          5.10000000e+01,   1.70000000e+01,   1.00000000e+00,\n",
       "          2.00000000e+00,   3.07500000e+03,   1.48390000e+04,\n",
       "          8.96000000e+02,   3.60000000e+02,   4.00000000e+02,\n",
       "          7.60000000e+01,   2.74450000e+04,   4.60570000e+04]),\n",
       " array([ 0.        ,  0.00974883,  0.01949766,  0.02924649,  0.03899532,\n",
       "         0.04874415,  0.05849298,  0.06824181,  0.07799063,  0.08773946,\n",
       "         0.09748829,  0.10723712,  0.11698595,  0.12673478,  0.13648361,\n",
       "         0.14623244,  0.15598127,  0.1657301 ,  0.17547893,  0.18522776,\n",
       "         0.19497659,  0.20472542,  0.21447424,  0.22422307,  0.2339719 ,\n",
       "         0.24372073,  0.25346956,  0.26321839,  0.27296722,  0.28271605,\n",
       "         0.29246488,  0.30221371,  0.31196254,  0.32171137,  0.3314602 ,\n",
       "         0.34120903,  0.35095785,  0.36070668,  0.37045551,  0.38020434,\n",
       "         0.38995317,  0.399702  ,  0.40945083,  0.41919966,  0.42894849,\n",
       "         0.43869732,  0.44844615,  0.45819498,  0.46794381,  0.47769264,\n",
       "         0.48744146,  0.49719029,  0.50693912,  0.51668795,  0.52643678,\n",
       "         0.53618561,  0.54593444,  0.55568327,  0.5654321 ,  0.57518093,\n",
       "         0.58492976,  0.59467859,  0.60442742,  0.61417625,  0.62392507,\n",
       "         0.6336739 ,  0.64342273,  0.65317156,  0.66292039,  0.67266922,\n",
       "         0.68241805,  0.69216688,  0.70191571,  0.71166454,  0.72141337,\n",
       "         0.7311622 ,  0.74091103,  0.75065986,  0.76040868,  0.77015751,\n",
       "         0.77990634,  0.78965517,  0.799404  ,  0.80915283,  0.81890166,\n",
       "         0.82865049,  0.83839932,  0.84814815,  0.85789698,  0.86764581,\n",
       "         0.87739464]),\n",
       " <a list of 90 Patch objects>)"
      ]
     },
     "execution_count": 28,
     "metadata": {},
     "output_type": "execute_result"
    },
    {
     "data": {
      "image/png": "[encoded data removed]",
      "text/plain": [
       "<matplotlib.figure.Figure at 0x7f757c22c550>"
      ]
     },
     "metadata": {
      "needs_background": "light"
     },
     "output_type": "display_data"
    }
   ],
   "source": [
    "plt.hist(missing_per_row / azdias.shape[1], bins=90)"
   ]
  },
  {
   "cell_type": "code",
   "execution_count": 29,
   "metadata": {},
   "outputs": [],
   "source": [
    "# Write code to divide the data into two subsets based on the number of missing\n",
    "# values in each row (our threshold is 30% of missing values)\n",
    "def split_dataset(df, missing_per_row, threshold=0.3):\n",
    "    \"\"\"\n",
    "    Splits data into two subsets based on the missing values per row.\n",
    "\n",
    "    INPUT:\n",
    "    - df (DataFrame): DataFrame to be split\n",
    "    - missing_per_row: calculated percentage of missing values per row\n",
    "    - threshold (float): threshold as decision criteria for splitting\n",
    "\n",
    "    OUTPUT:\n",
    "    - DataFrame: DataFrame with a smaller percentage of missing values than the threshold \n",
    "    - DataFrame: DataFrame with a higher percentage of missing values than the threshold\n",
    "    \"\"\"\n",
    "    \n",
    "    above_th = df[missing_per_row / df.shape[1] <= threshold]\n",
    "    below_th = df[missing_per_row / df.shape[1] > threshold]\n",
    "    return above_th, below_th\n",
    "    \n",
    "azdias, azdias_row_nan = split_dataset(azdias, missing_per_row)"
   ]
  },
  {
   "cell_type": "code",
   "execution_count": 30,
   "metadata": {},
   "outputs": [
    {
     "data": {
      "text/plain": [
       "0.8809902369894784"
      ]
     },
     "execution_count": 30,
     "metadata": {},
     "output_type": "execute_result"
    }
   ],
   "source": [
    "azdias.shape[0]/891221"
   ]
  },
  {
   "cell_type": "code",
   "execution_count": 31,
   "metadata": {},
   "outputs": [
    {
     "data": {
      "text/plain": [
       "(106064, 261)"
      ]
     },
     "execution_count": 31,
     "metadata": {},
     "output_type": "execute_result"
    }
   ],
   "source": [
    "azdias_row_nan.shape"
   ]
  },
  {
   "cell_type": "markdown",
   "metadata": {},
   "source": [
    "#### Step 5a: Select and Re-Encode Categorical Features"
   ]
  },
  {
   "cell_type": "code",
   "execution_count": 32,
   "metadata": {},
   "outputs": [
    {
     "data": {
      "text/plain": [
       "(26, 3)"
      ]
     },
     "execution_count": 32,
     "metadata": {},
     "output_type": "execute_result"
    }
   ],
   "source": [
    "# how many categorical features do we have?\n",
    "categorical = feat_info[feat_info['Type'] == 'categorical']\n",
    "categorical.shape"
   ]
  },
  {
   "cell_type": "code",
   "execution_count": 33,
   "metadata": {},
   "outputs": [],
   "source": [
    "def access_features(feature_type):\n",
    "    \"\"\"\n",
    "    Access features of a specific type.\n",
    "\n",
    "    INPUT:\n",
    "    - feature_type (str): feature type (categorical, mixed, numeric, ordinal)\n",
    "\n",
    "    OUTPUT: None\n",
    "    \"\"\"\n",
    "    \n",
    "    for i in range (0, feat_info.shape[0]):\n",
    "        t = feat_info.at[i,'Type']\n",
    "        f = feat_info.at[i,'Feature']\n",
    "        try:\n",
    "            if(t == feature_type):\n",
    "                print(f, azdias.loc[: , f].unique())\n",
    "        except KeyError:\n",
    "            print(f + ' was eliminated already')"
   ]
  },
  {
   "cell_type": "code",
   "execution_count": 34,
   "metadata": {},
   "outputs": [
    {
     "name": "stdout",
     "output_type": "stream",
     "text": [
      "AGER_TYP was eliminated already\n",
      "ANREDE_KZ [2 1]\n",
      "CAMEO_DEUG_2015 [8.0 4.0 2.0 6.0 1.0 9.0 5.0 7.0 3.0 nan '4' '3' '7' '2' '8' '9' '6' '5'\n",
      " '1']\n",
      "CAMEO_DEU_2015 ['8A' '4C' '2A' '6B' '8C' '4A' '2D' '1A' '1E' '9D' '5C' '7A' '5D' '9E' '9B'\n",
      " '1B' '8B' '3D' nan '4E' '4B' '3C' '5A' '7B' '9A' '6D' '6E' '2C' '7C' '9C'\n",
      " '7D' '5E' '1D' '8D' '6C' '6A' '5B' '4D' '3A' '2B' '7E' '3B' '6F' '5F' '1C']\n",
      "CJT_GESAMTTYP [  5.   3.   2.   4.   1.   6.  nan]\n",
      "D19_KONSUMTYP was eliminated already\n",
      "DSL_FLAG [ 1.  0.]\n",
      "FINANZTYP [1 6 5 2 4 3]\n",
      "GEBAEUDETYP [ 8.  1.  3.  2.  6.  4.  5.]\n",
      "GFK_URLAUBERTYP [ 10.   1.   5.  12.   9.   3.   8.  11.   4.   7.   2.   6.  nan]\n",
      "GREEN_AVANTGARDE [0 1]\n",
      "HH_DELTA_FLAG [  0.  nan   1.]\n",
      "KK_KUNDENTYP was eliminated already\n",
      "KONSUMZELLE [  1.   0.  nan]\n",
      "LP_FAMILIE_FEIN [  5.   1.  nan  10.   2.   7.  11.   8.   4.   6.   9.   3.]\n",
      "LP_FAMILIE_GROB [  3.   1.  nan   5.   2.   4.]\n",
      "LP_STATUS_FEIN [  2.   3.   9.   4.   1.  10.   5.   8.   6.   7.  nan]\n",
      "LP_STATUS_GROB [  1.   2.   4.   5.   3.  nan]\n",
      "NATIONALITAET_KZ [  1.   3.   2.  nan]\n",
      "OST_WEST_KZ ['W' 'O']\n",
      "SHOPPER_TYP [  3.   2.   1.   0.  nan]\n",
      "SOHO_KZ [ 1.  0.]\n",
      "TITEL_KZ was eliminated already\n",
      "UNGLEICHENN_FLAG [ 1.  0.]\n",
      "VERS_TYP [  2.   1.  nan]\n",
      "ZABEOTYP [5 3 4 1 6 2]\n"
     ]
    }
   ],
   "source": [
    "# Assess categorical features\n",
    "access_features('categorical')"
   ]
  },
  {
   "cell_type": "code",
   "execution_count": 35,
   "metadata": {},
   "outputs": [],
   "source": [
    "# Re-encode categorical variable(s) to be kept in the analysis.\n",
    "# 26 features, 4 dropped in steps before, 20 numerical - no changes (simplification)\n",
    "\n",
    "# dummies for binary non-numerical\n",
    "col_ow = azdias.loc[: , 'OST_WEST_KZ']\n",
    "s_ow = pd.Series(col_ow)\n",
    "azdias = pd.concat([azdias.drop('OST_WEST_KZ', axis=1), pd.get_dummies(s_ow, dummy_na=True, drop_first=True)], axis=1)\n",
    "\n",
    "# drop fine features, rough features are still available\n",
    "azdias.drop(['CAMEO_DEU_2015', 'LP_FAMILIE_FEIN', 'LP_STATUS_FEIN'], axis=1, inplace=True)\n",
    "\n",
    "# CAMEO_DEUG_2015 as float\n",
    "azdias['CAMEO_DEUG_2015'] = azdias['CAMEO_DEUG_2015'].astype('float64')"
   ]
  },
  {
   "cell_type": "code",
   "execution_count": 36,
   "metadata": {},
   "outputs": [
    {
     "data": {
      "text/plain": [
       "(785157, 259)"
      ]
     },
     "execution_count": 36,
     "metadata": {},
     "output_type": "execute_result"
    }
   ],
   "source": [
    "azdias.shape"
   ]
  },
  {
   "cell_type": "markdown",
   "metadata": {},
   "source": [
    "#### Step 5b: Select and Re-Encode Mixed Features"
   ]
  },
  {
   "cell_type": "code",
   "execution_count": 37,
   "metadata": {},
   "outputs": [
    {
     "data": {
      "text/plain": [
       "(4, 3)"
      ]
     },
     "execution_count": 37,
     "metadata": {},
     "output_type": "execute_result"
    }
   ],
   "source": [
    "# how many mixed features do we have?\n",
    "mixed = feat_info[feat_info['Type'] == 'mixed']\n",
    "mixed.shape"
   ]
  },
  {
   "cell_type": "code",
   "execution_count": 38,
   "metadata": {},
   "outputs": [
    {
     "name": "stdout",
     "output_type": "stream",
     "text": [
      "CAMEO_INTL_2015 [51.0 24.0 12.0 43.0 54.0 22.0 14.0 13.0 15.0 33.0 41.0 34.0 55.0 25.0 nan\n",
      " 23.0 31.0 52.0 35.0 45.0 44.0 32.0 '22' '24' '41' '12' '54' '51' '44' '35'\n",
      " '23' '25' '14' '34' '52' '55' '31' '32' '15' '13' '43' '33' '45']\n",
      "LP_LEBENSPHASE_FEIN [ 21.   3.  nan  32.   8.   2.   5.  10.   4.   6.  23.  20.   1.  25.  13.\n",
      "  18.  31.  38.  35.  30.   7.  22.  14.  29.  24.  28.  37.  26.  12.  39.\n",
      "  27.  36.   9.  34.  33.  15.  11.  40.  16.  19.  17.]\n",
      "LP_LEBENSPHASE_GROB [  6.   1.  nan  10.   2.   3.   5.   7.  12.  11.   9.   4.   8.]\n",
      "PRAEGENDE_JUGENDJAHRE [ 14.  15.   8.   3.  10.  11.   9.   6.   4.  nan   5.   2.   1.  12.  13.\n",
      "   7.]\n"
     ]
    }
   ],
   "source": [
    "# Assess mixed features\n",
    "access_features('mixed')"
   ]
  },
  {
   "cell_type": "code",
   "execution_count": 39,
   "metadata": {},
   "outputs": [],
   "source": [
    "def convert_pj_to_dec(val):\n",
    "    \"\"\"\n",
    "    Converts value of feature PRAEGENDE_JUGENDJAHRE to a DECADE value.\n",
    "\n",
    "    INPUT:\n",
    "    - val (int): original value\n",
    "\n",
    "    OUTPUT:\n",
    "    - int: converted value (0: 40s, 1: 50s, 2: 60s, 3: 70s, 4: 80s, 5: 90s)\n",
    "    \"\"\"\n",
    "    \n",
    "    result = val\n",
    "    if (val > 0 and val <= 2):\n",
    "        result = 0 #40s\n",
    "    elif (val <= 4):\n",
    "        result = 1 #50s\n",
    "    elif (val <= 7):\n",
    "        result = 2 #60s\n",
    "    elif (val <= 9):\n",
    "        result = 3 #70s\n",
    "    elif (val <= 13):\n",
    "        result = 4 #80s\n",
    "    elif (val <= 15):\n",
    "        result = 5 #90\n",
    "    return result\n",
    "\n",
    "def convert_pj_to_move(val):\n",
    "    \"\"\"\n",
    "    Converts value of feature PRAEGENDE_JUGENDJAHRE to a MOVEMENT value.\n",
    "\n",
    "    INPUT:\n",
    "    - val (int): original value\n",
    "\n",
    "    OUTPUT:\n",
    "    - int: converted value (0: Mainstream, 1: Avantgarde)\n",
    "    \"\"\"\n",
    "    \n",
    "    result = val\n",
    "    if (val in [1,3,5,8,10,12,14]):\n",
    "        result = 0 # M\n",
    "    elif (val in [2,4,6,7,9,11,13,15]):\n",
    "        result = 1 # A\n",
    "    return result"
   ]
  },
  {
   "cell_type": "code",
   "execution_count": 40,
   "metadata": {},
   "outputs": [],
   "source": [
    "# Investigate \"PRAEGENDE_JUGENDJAHRE\" and engineer two new variables.\n",
    "azdias['DECADE'] = azdias['PRAEGENDE_JUGENDJAHRE'].apply(lambda x: convert_pj_to_dec(x))\n",
    "azdias['MOVEMENT'] = azdias['PRAEGENDE_JUGENDJAHRE'].apply(lambda x: convert_pj_to_move(x))\n",
    "\n",
    "# drop PRAEGENDE_JUGENDJAHRE\n",
    "azdias.drop('PRAEGENDE_JUGENDJAHRE', axis=1, inplace=True)"
   ]
  },
  {
   "cell_type": "code",
   "execution_count": 41,
   "metadata": {},
   "outputs": [],
   "source": [
    "# Investigate \"CAMEO_INTL_2015\" and engineer two new variables.\n",
    "azdias['WEALTH'] = azdias['CAMEO_INTL_2015'].apply(lambda x: np.floor(pd.to_numeric(x)/10))\n",
    "azdias['LIFE_STAGE'] = azdias['CAMEO_INTL_2015'].apply(lambda x: pd.to_numeric(x)%10)\n",
    "\n",
    "# drop CAMEO_INTL_2015\n",
    "azdias.drop('CAMEO_INTL_2015', axis=1, inplace=True)"
   ]
  },
  {
   "cell_type": "code",
   "execution_count": 42,
   "metadata": {},
   "outputs": [],
   "source": [
    "# drop LP_LEBENSPHASE_FEIN and LP_LEBENSPHASE_GROB because no clear structure available\n",
    "azdias.drop(['LP_LEBENSPHASE_FEIN', 'LP_LEBENSPHASE_GROB'], axis=1, inplace=True)"
   ]
  },
  {
   "cell_type": "code",
   "execution_count": 43,
   "metadata": {},
   "outputs": [
    {
     "data": {
      "text/plain": [
       "(785157, 259)"
      ]
     },
     "execution_count": 43,
     "metadata": {},
     "output_type": "execute_result"
    }
   ],
   "source": [
    "azdias.shape"
   ]
  },
  {
   "cell_type": "markdown",
   "metadata": {},
   "source": [
    "#### Step 6: Feature Scaling"
   ]
  },
  {
   "cell_type": "markdown",
   "metadata": {},
   "source": [
    "Missing values are imputed with the median of the corresponding feature. Because of the majority of categorical and ordinal features it is superior to imputing mean values. Afterwards the features were standardised."
   ]
  },
  {
   "cell_type": "code",
   "execution_count": 44,
   "metadata": {},
   "outputs": [],
   "source": [
    "imputer = Imputer(strategy='median')\n",
    "scaler = StandardScaler()"
   ]
  },
  {
   "cell_type": "code",
   "execution_count": 45,
   "metadata": {},
   "outputs": [],
   "source": [
    "# impute median and scale azdias\n",
    "azdias_imputed = pd.DataFrame(imputer.fit_transform(azdias))\n",
    "azdias_scaled = scaler.fit_transform(azdias_imputed)"
   ]
  },
  {
   "cell_type": "markdown",
   "metadata": {},
   "source": [
    "### Put it all together - Cleaning function"
   ]
  },
  {
   "cell_type": "code",
   "execution_count": 46,
   "metadata": {},
   "outputs": [],
   "source": [
    "def clean_data(df, feat_info, drop_not_described, drop_nan_col, split=False):\n",
    "    \"\"\"\n",
    "    Cleans a DataFrame including the following steps:\n",
    "    - Drop not described features\n",
    "    - Convert missing values\n",
    "    - Drop features with high percentage of missing values\n",
    "    - Drop rows with high percentage of unknown values (optional)\n",
    "    - Re-encode features\n",
    "\n",
    "    INPUT:\n",
    "    - df (DataFrame): the DataFrame to be cleaned\n",
    "    - feat_info (DataFrame): the DataFrame containing the feature information\n",
    "    - drop_not_described (list): list of features to be dropped because they are not contained in the feature info\n",
    "    - drop_nan_col (list): list of features to be dropped because of a high percentage of missing values\n",
    "    - split (bool): if True rows with a high percentage of missing values are extracted\n",
    "\n",
    "    OUTPUT:\n",
    "    - DataFrame: cleaned DataFrame\n",
    "    - DataFrame (only if split=True): DataFrame containing rows with many missing values\n",
    "    \"\"\"\n",
    "    \n",
    "    # drop features that are not described\n",
    "    df.drop(labels=drop_not_described, axis=1, inplace=True)\n",
    "    \n",
    "    # convert missing or unknown\n",
    "    unknown = pd.Series(feat_info['Unknown'].values, index=feat_info['Feature'])\n",
    "    for col in df:\n",
    "        isin = ast.literal_eval(unknown[col])\n",
    "        df[col] = df[col].mask(df[col].isin(isin), other=np.nan)\n",
    "    \n",
    "    # drop columns because of too many NaN\n",
    "    df.drop(labels=drop_nan_col, axis=1, inplace=True)\n",
    "    \n",
    "    # split if necessary\n",
    "    df_row_nan = pd.DataFrame()\n",
    "    if(split):\n",
    "        missing_per_row = df.isnull().sum(axis=1)\n",
    "        df, df_row_nan = split_dataset(df, missing_per_row)\n",
    "    \n",
    "    # Re-encode categorical features\n",
    "    # dummies for binary non-numerical\n",
    "    col_ow = df.loc[: , 'OST_WEST_KZ']\n",
    "    s_ow = pd.Series(col_ow)\n",
    "    df = pd.concat([df.drop('OST_WEST_KZ', axis=1), pd.get_dummies(s_ow, dummy_na=True, drop_first=True)], axis=1)\n",
    "\n",
    "    # drop fine features\n",
    "    df.drop(['CAMEO_DEU_2015', 'LP_FAMILIE_FEIN', 'LP_STATUS_FEIN'], axis=1, inplace=True)\n",
    "\n",
    "    # CAMEO_DEUG_2015 as float\n",
    "    df['CAMEO_DEUG_2015'] = df['CAMEO_DEUG_2015'].astype('float64')\n",
    "    \n",
    "    # Re-encode mixed features\n",
    "    # Investigate \"PRAEGENDE_JUGENDJAHRE\" and engineer two new variables.\n",
    "    df['DECADE'] = df['PRAEGENDE_JUGENDJAHRE'].apply(lambda x: convert_pj_to_dec(x))\n",
    "    df['MOVEMENT'] = df['PRAEGENDE_JUGENDJAHRE'].apply(lambda x: convert_pj_to_move(x))\n",
    "\n",
    "    # drop PRAEGENDE_JUGENDJAHRE\n",
    "    df.drop('PRAEGENDE_JUGENDJAHRE', axis=1, inplace=True)\n",
    "\n",
    "    # Investigate \"CAMEO_INTL_2015\" and engineer two new variables.\n",
    "    df['WEALTH'] = df['CAMEO_INTL_2015'].apply(lambda x: np.floor(pd.to_numeric(x)/10))\n",
    "    df['LIFE_STAGE'] = df['CAMEO_INTL_2015'].apply(lambda x: pd.to_numeric(x)%10)\n",
    "\n",
    "    # drop CAMEO_INTL_2015\n",
    "    df.drop('CAMEO_INTL_2015', axis=1, inplace=True)\n",
    "    \n",
    "    # drop LP_LEBENSPHASE_FEIN and LP_LEBENSPHASE_GROB because no clear structure available\n",
    "    df.drop(['LP_LEBENSPHASE_FEIN', 'LP_LEBENSPHASE_GROB'], axis=1, inplace=True)\n",
    "    \n",
    "    if(split):\n",
    "        return df, df_row_nan\n",
    "    else:\n",
    "        return df"
   ]
  },
  {
   "cell_type": "markdown",
   "metadata": {},
   "source": [
    "### Customer Data Preprocessing"
   ]
  },
  {
   "cell_type": "code",
   "execution_count": 47,
   "metadata": {},
   "outputs": [],
   "source": [
    "# for customers three additional columns have to be dropped before cleaning\n",
    "customers.drop(diff_customers_azdias, axis=1, inplace=True)"
   ]
  },
  {
   "cell_type": "code",
   "execution_count": 48,
   "metadata": {},
   "outputs": [
    {
     "data": {
      "text/plain": [
       "(140343, 259)"
      ]
     },
     "execution_count": 48,
     "metadata": {},
     "output_type": "execute_result"
    }
   ],
   "source": [
    "# clean data\n",
    "customers, customers_row_nan = clean_data(customers, feat_info, diff_not_in_azdias, drop_missing_per_column, split=True)\n",
    "customers.shape"
   ]
  },
  {
   "cell_type": "code",
   "execution_count": 49,
   "metadata": {},
   "outputs": [
    {
     "data": {
      "text/plain": [
       "0.7322803831945401"
      ]
     },
     "execution_count": 49,
     "metadata": {},
     "output_type": "execute_result"
    }
   ],
   "source": [
    "customers.shape[0]/191652"
   ]
  },
  {
   "cell_type": "code",
   "execution_count": 50,
   "metadata": {},
   "outputs": [],
   "source": [
    "# impute median and scale customers, use already existing imputer and scaler objects\n",
    "customers_imputed = pd.DataFrame(imputer.transform(customers))\n",
    "customers_scaled = scaler.transform(customers_imputed)"
   ]
  },
  {
   "cell_type": "markdown",
   "metadata": {},
   "source": [
    "## Part 1: Customer Segmentation Report\n",
    "\n",
    "The main bulk of your analysis will come in this part of the project. Here, you should use unsupervised learning techniques to describe the relationship between the demographics of the company's existing customers and the general population of Germany. By the end of this part, you should be able to describe parts of the general population that are more likely to be part of the mail-order company's main customer base, and which parts of the general population are less so."
   ]
  },
  {
   "cell_type": "markdown",
   "metadata": {},
   "source": [
    "### PCA"
   ]
  },
  {
   "cell_type": "markdown",
   "metadata": {},
   "source": [
    "For clustering a PCA is not necessarily a precondition, but it reduces noise and therefore clustering methods are better able to distinguish the different clusters."
   ]
  },
  {
   "cell_type": "code",
   "execution_count": 51,
   "metadata": {},
   "outputs": [],
   "source": [
    "# Investigate the variance accounted for by each principal component.\n",
    "def scree_plot(pca):\n",
    "    \"\"\"\n",
    "    Creates a scree plot associated with the principal components. \n",
    "    \n",
    "    INPUT:\n",
    "    - pca (PCA): the result of instantiation of PCA in scikit learn\n",
    "            \n",
    "    OUTPUT: None\n",
    "    \"\"\"\n",
    "    \n",
    "    num_components = len(pca.explained_variance_ratio_)\n",
    "    ind = np.arange(num_components)\n",
    "    vals = pca.explained_variance_ratio_\n",
    " \n",
    "    plt.figure(figsize=(40, 24))\n",
    "    ax = plt.subplot(111)\n",
    "    cumvals = np.cumsum(vals)\n",
    "    ax.bar(ind, vals)\n",
    "    ax.plot(ind, cumvals)\n",
    "    for i in range(num_components):\n",
    "        ax.annotate(r\"%s%%\" % ((str(vals[i]*100)[:4])), (ind[i]+0.2, vals[i]), va=\"bottom\", ha=\"center\", fontsize=12)\n",
    " \n",
    "    ax.xaxis.set_tick_params(width=0)\n",
    "    ax.yaxis.set_tick_params(width=2, length=12)\n",
    " \n",
    "    ax.set_xlabel(\"Principal Component\")\n",
    "    ax.set_ylabel(\"Variance Explained (%)\")\n",
    "    plt.title('Explained Variance Per Principal Component')\n"
   ]
  },
  {
   "cell_type": "code",
   "execution_count": 52,
   "metadata": {},
   "outputs": [
    {
     "data": {
      "image/png": "[encoded data removed]",
      "text/plain": [
       "<matplotlib.figure.Figure at 0x7f757ac61f60>"
      ]
     },
     "metadata": {
      "needs_background": "light"
     },
     "output_type": "display_data"
    }
   ],
   "source": [
    "# Apply PCA to the data\n",
    "pca_full = PCA()\n",
    "X_azdias_pca_full = pca_full.fit_transform(azdias_scaled)\n",
    "scree_plot(pca_full)"
   ]
  },
  {
   "cell_type": "code",
   "execution_count": 53,
   "metadata": {},
   "outputs": [
    {
     "data": {
      "image/png": "[encoded data removed]",
      "text/plain": [
       "<matplotlib.figure.Figure at 0x7f7578a13c88>"
      ]
     },
     "metadata": {
      "needs_background": "light"
     },
     "output_type": "display_data"
    }
   ],
   "source": [
    "# Re-apply PCA to the data while selecting for number of components to retain\n",
    "pca = PCA(n_components=150, random_state=12)\n",
    "X_azdias_pca = pca.fit_transform(azdias_scaled)\n",
    "scree_plot(pca)"
   ]
  },
  {
   "cell_type": "code",
   "execution_count": 54,
   "metadata": {},
   "outputs": [],
   "source": [
    "# apply PCA to the customers dataset\n",
    "X_customers_pca = pca.transform(customers_scaled)"
   ]
  },
  {
   "cell_type": "markdown",
   "metadata": {},
   "source": [
    "### Clustering and Evaluation"
   ]
  },
  {
   "cell_type": "code",
   "execution_count": 55,
   "metadata": {},
   "outputs": [],
   "source": [
    "# Over a number of different cluster counts...\n",
    "# run k-means clustering on the data and...\n",
    "# compute the average within-cluster distances.\n",
    "cluster_nums = [1, 2, 3, 4, 5, 6, 7, 8, 9, 10, 11, 12, 13, 14, 15, 16, 17, 18, 19, 20]\n",
    "distances = []\n",
    "\n",
    "def apply_kmeans(data, clusters):\n",
    "    \"\"\"\n",
    "    Computed the average within-cluster distances. \n",
    "    \n",
    "    INPUT:\n",
    "    - data (array): the result from PCAs fit_transform function\n",
    "    - clusters (int): number of clusters for k-means\n",
    "            \n",
    "    OUTPUT: None\n",
    "    \"\"\"\n",
    "    \n",
    "    kmeans = KMeans(n_clusters=clusters, random_state=12)\n",
    "    preds = kmeans.fit_predict(data)\n",
    "    pred_centroids = kmeans.cluster_centers_\n",
    "    centers = pred_centroids[preds]\n",
    "    distance = np.sqrt(((data - centers) ** 2).sum(axis = 1)).mean()\n",
    "    distances.append(distance)\n",
    "    print(distance)"
   ]
  },
  {
   "cell_type": "code",
   "execution_count": 13,
   "metadata": {},
   "outputs": [
    {
     "name": "stdout",
     "output_type": "stream",
     "text": [
      "15.3827638605\n",
      "14.7983958373\n",
      "14.5654338139\n",
      "14.3972089843\n",
      "14.2719435284\n",
      "14.171895588\n",
      "14.0830660012\n",
      "14.0147016886\n",
      "13.9543377884\n",
      "13.9098734736\n",
      "13.8650712024\n",
      "13.8254177048\n",
      "13.7908336631\n",
      "13.7613853386\n",
      "13.7415892484\n",
      "13.7144961261\n",
      "13.6879261863\n",
      "13.664218527\n",
      "13.6423072428\n",
      "13.614928628\n"
     ]
    }
   ],
   "source": [
    "for i in cluster_nums:\n",
    "    apply_kmeans(X_azdias_pca,i)"
   ]
  },
  {
   "cell_type": "code",
   "execution_count": 14,
   "metadata": {},
   "outputs": [
    {
     "data": {
      "image/png": "[encoded data removed]",
      "text/plain": [
       "<matplotlib.figure.Figure at 0x7ff74e2214e0>"
      ]
     },
     "metadata": {
      "needs_background": "light"
     },
     "output_type": "display_data"
    }
   ],
   "source": [
    "# Investigate the change in within-cluster distance across number of clusters (elbow method).\n",
    "plt.plot(cluster_nums, distances, '-o')\n",
    "plt.ylabel('Avg. distance to centroid')\n",
    "plt.xlabel('# of clusters')\n",
    "plt.show()"
   ]
  },
  {
   "cell_type": "code",
   "execution_count": 56,
   "metadata": {},
   "outputs": [],
   "source": [
    "# run KMeans with the \"optimal\" number of clusters (from elbow method)\n",
    "n_clusters = 9\n",
    "kmeans = KMeans(n_clusters=n_clusters, random_state=12)\n",
    "\n",
    "# for the general population\n",
    "azdias_preds = kmeans.fit_predict(X_azdias_pca)"
   ]
  },
  {
   "cell_type": "code",
   "execution_count": 57,
   "metadata": {},
   "outputs": [],
   "source": [
    "# build a map for the general population, containing index and cluster predictions\n",
    "cluster_map_azdias = pd.DataFrame()\n",
    "cluster_map_azdias['data_index'] = azdias.index.values\n",
    "cluster_map_azdias['cluster'] = azdias_preds"
   ]
  },
  {
   "cell_type": "code",
   "execution_count": 58,
   "metadata": {},
   "outputs": [],
   "source": [
    "# for the customers\n",
    "customers_preds = kmeans.predict(X_customers_pca)"
   ]
  },
  {
   "cell_type": "code",
   "execution_count": 59,
   "metadata": {},
   "outputs": [],
   "source": [
    "# build a map for the customers, containing index and cluster predictions\n",
    "cluster_map_customers = pd.DataFrame()\n",
    "cluster_map_customers['data_index'] = customers.index.values\n",
    "cluster_map_customers['cluster'] = customers_preds"
   ]
  },
  {
   "cell_type": "markdown",
   "metadata": {},
   "source": [
    "### Comparison"
   ]
  },
  {
   "cell_type": "code",
   "execution_count": 60,
   "metadata": {},
   "outputs": [],
   "source": [
    "azd_helper = azdias_row_nan.shape[0]\n",
    "cst_helper = customers_row_nan.shape[0]"
   ]
  },
  {
   "cell_type": "code",
   "execution_count": 61,
   "metadata": {},
   "outputs": [
    {
     "name": "stdout",
     "output_type": "stream",
     "text": [
      "{0: 0.063199812392212479, 1: 0.11858113756296138, 2: 0.092781700610735166, 3: 0.06739518032003286, 4: 0.12735898278878077, 5: 0.12629302945060764, 6: 0.068279360562643832, 7: 0.12702124388900171, 8: 0.090079789412502623, 9: 0.11900976301052152}\n",
      "{0: 0.091989647903491747, 1: 0.10598376223571891, 2: 0.014782000709619519, 3: 0.015705549642059568, 4: 0.29402249911297562, 5: 0.13640348130987415, 6: 0.021043349404128317, 7: 0.016018617076785008, 8: 0.036331475799887297, 9: 0.2677196168054599}\n"
     ]
    }
   ],
   "source": [
    "# Compare the proportion of data in each cluster for the customer data to the\n",
    "# proportion of data in each cluster for the general population.\n",
    "\n",
    "azd_unique, azd_counts = np.unique(azdias_preds, return_counts=True)\n",
    "azd = dict(zip(azd_unique, azd_counts / (azdias.shape[0] + azd_helper)))\n",
    "azd[n_clusters] = azd_helper/(azdias.shape[0] + azd_helper)\n",
    "\n",
    "cst_unique, cst_counts = np.unique(customers_preds, return_counts=True)\n",
    "cst = dict(zip(cst_unique, cst_counts / (customers.shape[0] + cst_helper)))\n",
    "cst[n_clusters] = cst_helper/(customers.shape[0] + cst_helper)\n",
    "\n",
    "print(azd)\n",
    "print(cst)"
   ]
  },
  {
   "cell_type": "code",
   "execution_count": 62,
   "metadata": {},
   "outputs": [],
   "source": [
    "# add individuals that were separated because of a high percentage of missing values as extra cluster\n",
    "# as k-means would have predicted cluster #9\n",
    "\n",
    "azd_with_separated = azdias_preds.copy()\n",
    "for i in range (0,azd_helper): # add separated as extra group \n",
    "    azd_with_separated = np.append(azd_with_separated, n_clusters) \n",
    "\n",
    "cst_with_separated = customers_preds.copy()\n",
    "for i in range (0,cst_helper): # add separated as extra group\n",
    "    cst_with_separated = np.append(cst_with_separated, n_clusters) "
   ]
  },
  {
   "cell_type": "code",
   "execution_count": 63,
   "metadata": {},
   "outputs": [
    {
     "data": {
      "text/plain": [
       "<matplotlib.axes._subplots.AxesSubplot at 0x7f757a28ec50>"
      ]
     },
     "execution_count": 63,
     "metadata": {},
     "output_type": "execute_result"
    },
    {
     "data": {
      "image/png": "[encoded data removed]",
      "text/plain": [
       "<matplotlib.figure.Figure at 0x7f757a372908>"
      ]
     },
     "metadata": {
      "needs_background": "light"
     },
     "output_type": "display_data"
    }
   ],
   "source": [
    "# print cluster proportions \n",
    "\n",
    "ax1 = plt.subplot(121)\n",
    "ax1.set_ylim(0, azdias.shape[0] + azd_helper)\n",
    "sns.countplot(azd_with_separated)\n",
    "ax2 = plt.subplot(122)\n",
    "ax2.set_ylim(0, customers.shape[0] + cst_helper)\n",
    "sns.countplot(cst_with_separated)"
   ]
  },
  {
   "cell_type": "markdown",
   "metadata": {},
   "source": [
    "### Feature Selection"
   ]
  },
  {
   "cell_type": "code",
   "execution_count": 86,
   "metadata": {},
   "outputs": [],
   "source": [
    "def binarize_clusters(cluster, cluster_map):\n",
    "    \"\"\"\n",
    "    Converts the cluster predictions to 0 if not the target cluster, otherwise to 1. \n",
    "    \n",
    "    INPUT:\n",
    "    - cluster (int): number of cluster\n",
    "    - cluster_map (DataFrame): DataFrame containing index and cluster prediction\n",
    "            \n",
    "    OUTPUT:\n",
    "    - DataFrame: DataFrame with the binarized values\n",
    "    \"\"\"\n",
    "    helper = 99\n",
    "    x = cluster_map['cluster'].copy()\n",
    "    x[x == cluster] = helper\n",
    "    x[x != helper] = 0\n",
    "    x[x == helper] = 1\n",
    "    return x"
   ]
  },
  {
   "cell_type": "code",
   "execution_count": 82,
   "metadata": {},
   "outputs": [],
   "source": [
    "def fit_and_find_important_features(df_scaled, preds, gscv):\n",
    "    \"\"\"\n",
    "    Fits a DataFrame and prediction values to a classifier\n",
    "    and print the most important features according to the classifiers coefficients.\n",
    "    \n",
    "    INPUT:\n",
    "    - df_scaled (DataFrame): a DataFrame with standarized values\n",
    "    - preds (DataFrame): DataFrame containing binarized cluster predictions\n",
    "    - gscv (GridSearchCV): GridSearchCV object containing the classifier for coefficient determination\n",
    "            \n",
    "    OUTPUT: None\n",
    "    \"\"\"\n",
    "    \n",
    "    gscv.fit(df_scaled, preds)\n",
    "    print(gscv.best_score_)\n",
    "    \n",
    "    fi_sorted = np.sort(gscv.best_estimator_.coef_[0])\n",
    "    \n",
    "    threshold = fi_sorted[len(fi_sorted)-5]\n",
    "    fi_indices = np.where(gscv.best_estimator_.coef_[0] >= threshold)\n",
    "\n",
    "    for i in fi_indices:\n",
    "        print(customers.columns[i])"
   ]
  },
  {
   "cell_type": "code",
   "execution_count": 184,
   "metadata": {},
   "outputs": [],
   "source": [
    "def calc_mean_median(cluster_map, df_imputed, target_cluster, features):\n",
    "    \"\"\"\n",
    "    Calculates and prints mean and median for a defined set of features of a DataFrame filtered to a target cluster.\n",
    "    \n",
    "    INPUT:\n",
    "    - cluster_map (DataFrame): DataFrame containing index and cluster prediction\n",
    "    - df_imputed (DataFrame): a DataFrame with imputed values\n",
    "    - target_cluster (int): number of cluster to investigate (filter function)\n",
    "    - features (dict): containing feature names and corresponding indices\n",
    "            \n",
    "    OUTPUT: None\n",
    "    \"\"\"\n",
    "    \n",
    "    indexed_map = cluster_map.set_index('data_index')\n",
    "    joined = df_imputed.join(indexed_map)\n",
    "    filtered = joined[joined[\"cluster\"] == target_cluster]\n",
    "    for f in features:\n",
    "        print(f, filtered[features[f]].mean(), filtered[features[f]].median())"
   ]
  },
  {
   "cell_type": "code",
   "execution_count": 75,
   "metadata": {},
   "outputs": [],
   "source": [
    "# use LogisticRegression with GridSearchCV for feature selection\n",
    "clf = LogisticRegression(random_state=12)\n",
    "gscv = GridSearchCV(estimator=clf, param_grid={}, scoring='roc_auc', cv=5)"
   ]
  },
  {
   "cell_type": "markdown",
   "metadata": {},
   "source": [
    "#### Investigate Cluster 4"
   ]
  },
  {
   "cell_type": "code",
   "execution_count": 76,
   "metadata": {},
   "outputs": [
    {
     "name": "stdout",
     "output_type": "stream",
     "text": [
      "0.933671529596\n",
      "Index(['KBA05_KW2', 'KBA13_KW_61_120', 'KBA13_MOTOR', 'ALTERSKATEGORIE_GROB',\n",
      "       'W'],\n",
      "      dtype='object')\n"
     ]
    }
   ],
   "source": [
    "# find important features\n",
    "target_cluster = 4\n",
    "cst_preds_4 = binarize_clusters(target_cluster, cluster_map_customers)\n",
    "fit_and_find_important_features(customers_scaled, cst_preds_4, gscv)"
   ]
  },
  {
   "cell_type": "code",
   "execution_count": 188,
   "metadata": {},
   "outputs": [
    {
     "name": "stdout",
     "output_type": "stream",
     "text": [
      "KBA05_KW2 3.07739218818 3.0\n",
      "KBA13_KW_61_120 3.08704806157 3.0\n",
      "KBA13_MOTOR 2.77757610958 3.0\n",
      "ALTERSKATEGORIE_GROB 3.48983592275 4.0\n",
      "W 0.919485988094 1.0\n"
     ]
    }
   ],
   "source": [
    "# calculate mean and median\n",
    "target_cluster = 4\n",
    "features = {'KBA05_KW2': 60, 'KBA13_KW_61_120': 172, 'KBA13_MOTOR': 178, 'ALTERSKATEGORIE_GROB': 252, 'W': 253}\n",
    "\n",
    "# for customers\n",
    "calc_mean_median(cluster_map_customers, customers_imputed.filter(features.values()), target_cluster, features)"
   ]
  },
  {
   "cell_type": "code",
   "execution_count": 189,
   "metadata": {},
   "outputs": [
    {
     "name": "stdout",
     "output_type": "stream",
     "text": [
      "KBA05_KW2 2.99492133041 3.0\n",
      "KBA13_KW_61_120 2.99360685122 3.0\n",
      "KBA13_MOTOR 2.7824039036 3.0\n",
      "ALTERSKATEGORIE_GROB 2.79605656244 3.0\n",
      "W 0.788448516232 1.0\n"
     ]
    }
   ],
   "source": [
    "# for general population\n",
    "calc_mean_median(cluster_map_azdias, azdias_imputed.filter(features.values()), target_cluster, features)"
   ]
  },
  {
   "cell_type": "markdown",
   "metadata": {},
   "source": [
    "#### Investigate Cluster 0"
   ]
  },
  {
   "cell_type": "code",
   "execution_count": 87,
   "metadata": {},
   "outputs": [
    {
     "name": "stdout",
     "output_type": "stream",
     "text": [
      "0.993440419195\n",
      "Index(['EWDICHTE', 'KBA13_ALTERHALTER_61', 'KBA13_ANTG2', 'KBA13_HALTER_66',\n",
      "       'WEALTH'],\n",
      "      dtype='object')\n"
     ]
    }
   ],
   "source": [
    "# find important features\n",
    "target_cluster = 0\n",
    "cst_preds_0 = binarize_clusters(target_cluster, cluster_map_customers)\n",
    "fit_and_find_important_features(customers_scaled, cst_preds_0, gscv)"
   ]
  },
  {
   "cell_type": "code",
   "execution_count": 195,
   "metadata": {},
   "outputs": [
    {
     "name": "stdout",
     "output_type": "stream",
     "text": [
      "EWDICHTE 3.88662113922 4.0\n",
      "KBA13_ALTERHALTER_61 3.27394071085 3.0\n",
      "KBA13_ANTG2 2.74778829738 3.0\n",
      "KBA13_HALTER_66 3.23653577526 3.0\n",
      "WEALTH 2.60887785193 2.0\n"
     ]
    }
   ],
   "source": [
    "# calculate mean and median\n",
    "target_cluster = 0\n",
    "features = {'EWDICHTE': 12, 'KBA13_ALTERHALTER_61': 95, 'KBA13_ANTG2': 97, 'KBA13_HALTER_66': 139, 'WEALTH': 257}\n",
    "\n",
    "# for customers\n",
    "calc_mean_median(cluster_map_customers, customers_imputed.filter(features.values()), target_cluster, features)"
   ]
  },
  {
   "cell_type": "code",
   "execution_count": 196,
   "metadata": {},
   "outputs": [
    {
     "name": "stdout",
     "output_type": "stream",
     "text": [
      "EWDICHTE 3.94600924748 4.0\n",
      "KBA13_ALTERHALTER_61 3.12498233287 3.0\n",
      "KBA13_ANTG2 2.78086700184 3.0\n",
      "KBA13_HALTER_66 3.11113130212 3.0\n",
      "WEALTH 3.27486017728 4.0\n"
     ]
    }
   ],
   "source": [
    "# for general population\n",
    "calc_mean_median(cluster_map_azdias, azdias_imputed.filter(features.values()), target_cluster, features)"
   ]
  },
  {
   "cell_type": "markdown",
   "metadata": {},
   "source": [
    "#### Investigate Cluster 7"
   ]
  },
  {
   "cell_type": "code",
   "execution_count": 88,
   "metadata": {},
   "outputs": [
    {
     "name": "stdout",
     "output_type": "stream",
     "text": [
      "0.988490101211\n",
      "Index(['ANZ_STATISTISCHE_HAUSHALTE', 'FINANZ_ANLEGER', 'SEMIO_PFLICHT', 'W',\n",
      "       'DECADE'],\n",
      "      dtype='object')\n"
     ]
    }
   ],
   "source": [
    "# find important features\n",
    "target_cluster = 7\n",
    "cst_preds_7 = binarize_clusters(target_cluster, cluster_map_customers)\n",
    "fit_and_find_important_features(customers_scaled, cst_preds_7, gscv)"
   ]
  },
  {
   "cell_type": "code",
   "execution_count": 197,
   "metadata": {},
   "outputs": [
    {
     "name": "stdout",
     "output_type": "stream",
     "text": [
      "ANZ_STATISTISCHE_HAUSHALTE 5.02161188654 1.0\n",
      "FINANZ_ANLEGER 1.59117514633 1.0\n",
      "SEMIO_PFLICHT 3.01260693381 3.0\n",
      "W 0.928410625844 1.0\n",
      "DECADE 1.92841062584 2.0\n"
     ]
    }
   ],
   "source": [
    "# calculate mean and median\n",
    "target_cluster = 7\n",
    "features = {'ANZ_STATISTISCHE_HAUSHALTE': 4, 'FINANZ_ANLEGER': 13, 'SEMIO_PFLICHT': 237, 'W': 253, 'DECADE': 255}\n",
    "\n",
    "# for customers\n",
    "calc_mean_median(cluster_map_customers, customers_imputed.filter(features.values()), target_cluster, features)"
   ]
  },
  {
   "cell_type": "code",
   "execution_count": 198,
   "metadata": {},
   "outputs": [
    {
     "name": "stdout",
     "output_type": "stream",
     "text": [
      "ANZ_STATISTISCHE_HAUSHALTE 7.58482584826 3.0\n",
      "FINANZ_ANLEGER 2.83746837468 3.0\n",
      "SEMIO_PFLICHT 4.18750187502 4.0\n",
      "W 0.790007900079 1.0\n",
      "DECADE 3.31002310023 3.0\n"
     ]
    }
   ],
   "source": [
    "# for general population\n",
    "calc_mean_median(cluster_map_azdias, azdias_imputed.filter(features.values()), target_cluster, features)"
   ]
  },
  {
   "cell_type": "markdown",
   "metadata": {},
   "source": [
    "## Part 2: Supervised Learning Model\n",
    "\n",
    "Now that you've found which parts of the population are more likely to be customers of the mail-order company, it's time to build a prediction model. Each of the rows in the \"MAILOUT\" data files represents an individual that was targeted for a mailout campaign. Ideally, we should be able to use the demographic information from each individual to decide whether or not it will be worth it to include that person in the campaign.\n",
    "\n",
    "The \"MAILOUT\" data has been split into two approximately equal parts, each with almost 43 000 data rows. In this part, you can verify your model with the \"TRAIN\" partition, which includes a column, \"RESPONSE\", that states whether or not a person became a customer of the company following the campaign. In the next part, you'll need to create predictions on the \"TEST\" partition, where the \"RESPONSE\" column has been withheld."
   ]
  },
  {
   "cell_type": "markdown",
   "metadata": {},
   "source": [
    "### Read in and basic evaluation"
   ]
  },
  {
   "cell_type": "code",
   "execution_count": 127,
   "metadata": {},
   "outputs": [
    {
     "name": "stderr",
     "output_type": "stream",
     "text": [
      "/opt/conda/lib/python3.6/site-packages/IPython/core/interactiveshell.py:2785: DtypeWarning: Columns (18,19) have mixed types. Specify dtype option on import or set low_memory=False.\n",
      "  interactivity=interactivity, compiler=compiler, result=result)\n"
     ]
    }
   ],
   "source": [
    "mailout_train = pd.read_csv('../../data/Term2/capstone/arvato_data/Udacity_MAILOUT_052018_TRAIN.csv', sep=';')"
   ]
  },
  {
   "cell_type": "code",
   "execution_count": 128,
   "metadata": {},
   "outputs": [
    {
     "name": "stdout",
     "output_type": "stream",
     "text": [
      "<class 'pandas.core.frame.DataFrame'>\n",
      "RangeIndex: 42962 entries, 0 to 42961\n",
      "Columns: 367 entries, LNR to ALTERSKATEGORIE_GROB\n",
      "dtypes: float64(267), int64(94), object(6)\n",
      "memory usage: 120.3+ MB\n"
     ]
    }
   ],
   "source": [
    "mailout_train.info()"
   ]
  },
  {
   "cell_type": "code",
   "execution_count": 129,
   "metadata": {},
   "outputs": [
    {
     "data": {
      "text/html": [
       "<div>\n",
       "<style scoped>\n",
       "    .dataframe tbody tr th:only-of-type {\n",
       "        vertical-align: middle;\n",
       "    }\n",
       "\n",
       "    .dataframe tbody tr th {\n",
       "        vertical-align: top;\n",
       "    }\n",
       "\n",
       "    .dataframe thead th {\n",
       "        text-align: right;\n",
       "    }\n",
       "</style>\n",
       "<table border=\"1\" class=\"dataframe\">\n",
       "  <thead>\n",
       "    <tr style=\"text-align: right;\">\n",
       "      <th></th>\n",
       "      <th>LNR</th>\n",
       "      <th>AGER_TYP</th>\n",
       "      <th>AKT_DAT_KL</th>\n",
       "      <th>ALTER_HH</th>\n",
       "      <th>ALTER_KIND1</th>\n",
       "      <th>ALTER_KIND2</th>\n",
       "      <th>ALTER_KIND3</th>\n",
       "      <th>ALTER_KIND4</th>\n",
       "      <th>ALTERSKATEGORIE_FEIN</th>\n",
       "      <th>ANZ_HAUSHALTE_AKTIV</th>\n",
       "      <th>...</th>\n",
       "      <th>VK_DHT4A</th>\n",
       "      <th>VK_DISTANZ</th>\n",
       "      <th>VK_ZG11</th>\n",
       "      <th>W_KEIT_KIND_HH</th>\n",
       "      <th>WOHNDAUER_2008</th>\n",
       "      <th>WOHNLAGE</th>\n",
       "      <th>ZABEOTYP</th>\n",
       "      <th>RESPONSE</th>\n",
       "      <th>ANREDE_KZ</th>\n",
       "      <th>ALTERSKATEGORIE_GROB</th>\n",
       "    </tr>\n",
       "  </thead>\n",
       "  <tbody>\n",
       "    <tr>\n",
       "      <th>0</th>\n",
       "      <td>1763</td>\n",
       "      <td>2</td>\n",
       "      <td>1.0</td>\n",
       "      <td>8.0</td>\n",
       "      <td>NaN</td>\n",
       "      <td>NaN</td>\n",
       "      <td>NaN</td>\n",
       "      <td>NaN</td>\n",
       "      <td>8.0</td>\n",
       "      <td>15.0</td>\n",
       "      <td>...</td>\n",
       "      <td>5.0</td>\n",
       "      <td>2.0</td>\n",
       "      <td>1.0</td>\n",
       "      <td>6.0</td>\n",
       "      <td>9.0</td>\n",
       "      <td>3.0</td>\n",
       "      <td>3</td>\n",
       "      <td>0</td>\n",
       "      <td>2</td>\n",
       "      <td>4</td>\n",
       "    </tr>\n",
       "    <tr>\n",
       "      <th>1</th>\n",
       "      <td>1771</td>\n",
       "      <td>1</td>\n",
       "      <td>4.0</td>\n",
       "      <td>13.0</td>\n",
       "      <td>NaN</td>\n",
       "      <td>NaN</td>\n",
       "      <td>NaN</td>\n",
       "      <td>NaN</td>\n",
       "      <td>13.0</td>\n",
       "      <td>1.0</td>\n",
       "      <td>...</td>\n",
       "      <td>1.0</td>\n",
       "      <td>2.0</td>\n",
       "      <td>1.0</td>\n",
       "      <td>4.0</td>\n",
       "      <td>9.0</td>\n",
       "      <td>7.0</td>\n",
       "      <td>1</td>\n",
       "      <td>0</td>\n",
       "      <td>2</td>\n",
       "      <td>3</td>\n",
       "    </tr>\n",
       "    <tr>\n",
       "      <th>2</th>\n",
       "      <td>1776</td>\n",
       "      <td>1</td>\n",
       "      <td>1.0</td>\n",
       "      <td>9.0</td>\n",
       "      <td>NaN</td>\n",
       "      <td>NaN</td>\n",
       "      <td>NaN</td>\n",
       "      <td>NaN</td>\n",
       "      <td>7.0</td>\n",
       "      <td>0.0</td>\n",
       "      <td>...</td>\n",
       "      <td>6.0</td>\n",
       "      <td>4.0</td>\n",
       "      <td>2.0</td>\n",
       "      <td>NaN</td>\n",
       "      <td>9.0</td>\n",
       "      <td>2.0</td>\n",
       "      <td>3</td>\n",
       "      <td>0</td>\n",
       "      <td>1</td>\n",
       "      <td>4</td>\n",
       "    </tr>\n",
       "    <tr>\n",
       "      <th>3</th>\n",
       "      <td>1460</td>\n",
       "      <td>2</td>\n",
       "      <td>1.0</td>\n",
       "      <td>6.0</td>\n",
       "      <td>NaN</td>\n",
       "      <td>NaN</td>\n",
       "      <td>NaN</td>\n",
       "      <td>NaN</td>\n",
       "      <td>6.0</td>\n",
       "      <td>4.0</td>\n",
       "      <td>...</td>\n",
       "      <td>8.0</td>\n",
       "      <td>11.0</td>\n",
       "      <td>11.0</td>\n",
       "      <td>6.0</td>\n",
       "      <td>9.0</td>\n",
       "      <td>1.0</td>\n",
       "      <td>3</td>\n",
       "      <td>0</td>\n",
       "      <td>2</td>\n",
       "      <td>4</td>\n",
       "    </tr>\n",
       "    <tr>\n",
       "      <th>4</th>\n",
       "      <td>1783</td>\n",
       "      <td>2</td>\n",
       "      <td>1.0</td>\n",
       "      <td>9.0</td>\n",
       "      <td>NaN</td>\n",
       "      <td>NaN</td>\n",
       "      <td>NaN</td>\n",
       "      <td>NaN</td>\n",
       "      <td>9.0</td>\n",
       "      <td>53.0</td>\n",
       "      <td>...</td>\n",
       "      <td>2.0</td>\n",
       "      <td>2.0</td>\n",
       "      <td>1.0</td>\n",
       "      <td>6.0</td>\n",
       "      <td>9.0</td>\n",
       "      <td>3.0</td>\n",
       "      <td>3</td>\n",
       "      <td>0</td>\n",
       "      <td>1</td>\n",
       "      <td>3</td>\n",
       "    </tr>\n",
       "  </tbody>\n",
       "</table>\n",
       "<p>5 rows × 367 columns</p>\n",
       "</div>"
      ],
      "text/plain": [
       "    LNR  AGER_TYP  AKT_DAT_KL  ALTER_HH  ALTER_KIND1  ALTER_KIND2  \\\n",
       "0  1763         2         1.0       8.0          NaN          NaN   \n",
       "1  1771         1         4.0      13.0          NaN          NaN   \n",
       "2  1776         1         1.0       9.0          NaN          NaN   \n",
       "3  1460         2         1.0       6.0          NaN          NaN   \n",
       "4  1783         2         1.0       9.0          NaN          NaN   \n",
       "\n",
       "   ALTER_KIND3  ALTER_KIND4  ALTERSKATEGORIE_FEIN  ANZ_HAUSHALTE_AKTIV  \\\n",
       "0          NaN          NaN                   8.0                 15.0   \n",
       "1          NaN          NaN                  13.0                  1.0   \n",
       "2          NaN          NaN                   7.0                  0.0   \n",
       "3          NaN          NaN                   6.0                  4.0   \n",
       "4          NaN          NaN                   9.0                 53.0   \n",
       "\n",
       "          ...           VK_DHT4A  VK_DISTANZ  VK_ZG11  W_KEIT_KIND_HH  \\\n",
       "0         ...                5.0         2.0      1.0             6.0   \n",
       "1         ...                1.0         2.0      1.0             4.0   \n",
       "2         ...                6.0         4.0      2.0             NaN   \n",
       "3         ...                8.0        11.0     11.0             6.0   \n",
       "4         ...                2.0         2.0      1.0             6.0   \n",
       "\n",
       "   WOHNDAUER_2008  WOHNLAGE  ZABEOTYP RESPONSE ANREDE_KZ ALTERSKATEGORIE_GROB  \n",
       "0             9.0       3.0         3        0         2                    4  \n",
       "1             9.0       7.0         1        0         2                    3  \n",
       "2             9.0       2.0         3        0         1                    4  \n",
       "3             9.0       1.0         3        0         2                    4  \n",
       "4             9.0       3.0         3        0         1                    3  \n",
       "\n",
       "[5 rows x 367 columns]"
      ]
     },
     "execution_count": 129,
     "metadata": {},
     "output_type": "execute_result"
    }
   ],
   "source": [
    "mailout_train.head()"
   ]
  },
  {
   "cell_type": "code",
   "execution_count": 133,
   "metadata": {},
   "outputs": [],
   "source": [
    "# Imbalance of REPONSE column\n",
    "vc = mailout_train['RESPONSE'].value_counts()"
   ]
  },
  {
   "cell_type": "code",
   "execution_count": 136,
   "metadata": {},
   "outputs": [
    {
     "data": {
      "text/plain": [
       "0.012383036171500396"
      ]
     },
     "execution_count": 136,
     "metadata": {},
     "output_type": "execute_result"
    }
   ],
   "source": [
    "# positive response\n",
    "vc[1]/(vc[0]+vc[1])"
   ]
  },
  {
   "cell_type": "code",
   "execution_count": 138,
   "metadata": {},
   "outputs": [
    {
     "data": {
      "text/plain": [
       "0.98761696382849962"
      ]
     },
     "execution_count": 138,
     "metadata": {},
     "output_type": "execute_result"
    }
   ],
   "source": [
    "# negative response\n",
    "vc[0]/(vc[0]+vc[1])"
   ]
  },
  {
   "cell_type": "markdown",
   "metadata": {},
   "source": [
    "### Data Preprocessing"
   ]
  },
  {
   "cell_type": "code",
   "execution_count": 139,
   "metadata": {},
   "outputs": [],
   "source": [
    "# extract RESPONSE column\n",
    "response = mailout_train['RESPONSE']"
   ]
  },
  {
   "cell_type": "code",
   "execution_count": 140,
   "metadata": {},
   "outputs": [],
   "source": [
    "# drop RESPONSE column\n",
    "mailout_train.drop(labels=['RESPONSE'], axis=1, inplace=True)"
   ]
  },
  {
   "cell_type": "code",
   "execution_count": 141,
   "metadata": {},
   "outputs": [],
   "source": [
    "# copied from output Part 0 - Step 1\n",
    "features_not_described = ['VHN', 'D19_KONSUMTYP_MAX', 'VHA', 'D19_LETZTER_KAUF_BRANCHE', 'GEMEINDETYP', 'VK_DHT4A', 'ALTER_KIND4', 'LNR', 'RT_UEBERGROESSE', 'EINGEFUEGT_AM', 'STRUKTURTYP', 'FIRMENDICHTE', 'UMFELD_JUNG', 'ALTER_KIND1', 'CJT_TYP_2', 'CJT_TYP_5', 'CJT_TYP_3', 'AKT_DAT_KL', 'UMFELD_ALT', 'CJT_KATALOGNUTZER', 'CJT_TYP_6', 'RT_KEIN_ANREIZ', 'CJT_TYP_4', 'RT_SCHNAEPPCHEN', 'KOMBIALTER', 'ALTER_KIND2', 'VK_ZG11', 'CJT_TYP_1', 'EXTSEL992', 'VK_DISTANZ', 'ALTER_KIND3', 'VERDICHTUNGSRAUM']"
   ]
  },
  {
   "cell_type": "code",
   "execution_count": 142,
   "metadata": {},
   "outputs": [],
   "source": [
    "# find features to drop because of many missing values\n",
    "missing_per_column = mailout_train.isnull().mean()"
   ]
  },
  {
   "cell_type": "code",
   "execution_count": 143,
   "metadata": {},
   "outputs": [
    {
     "data": {
      "text/plain": [
       "(array([ 113.,    0.,    0.,    0.,    0.,   16.,  229.,    2.,    0.,\n",
       "           0.,    0.,    0.,    1.,    0.,    0.,    0.,    0.,    0.,\n",
       "           0.,    0.,    1.,    0.,    0.,    0.,    0.,    0.,    0.,\n",
       "           0.,    0.,    0.,    0.,    0.,    1.,    3.]),\n",
       " array([ 0.        ,  0.0293837 ,  0.05876739,  0.08815109,  0.11753478,\n",
       "         0.14691848,  0.17630218,  0.20568587,  0.23506957,  0.26445327,\n",
       "         0.29383696,  0.32322066,  0.35260435,  0.38198805,  0.41137175,\n",
       "         0.44075544,  0.47013914,  0.49952283,  0.52890653,  0.55829023,\n",
       "         0.58767392,  0.61705762,  0.64644131,  0.67582501,  0.70520871,\n",
       "         0.7345924 ,  0.7639761 ,  0.7933598 ,  0.82274349,  0.85212719,\n",
       "         0.88151088,  0.91089458,  0.94027828,  0.96966197,  0.99904567]),\n",
       " <a list of 34 Patch objects>)"
      ]
     },
     "execution_count": 143,
     "metadata": {},
     "output_type": "execute_result"
    },
    {
     "data": {
      "image/png": "[encoded data removed]",
      "text/plain": [
       "<matplotlib.figure.Figure at 0x7f7579c268d0>"
      ]
     },
     "metadata": {
      "needs_background": "light"
     },
     "output_type": "display_data"
    }
   ],
   "source": [
    "plt.hist(missing_per_column, bins=34)"
   ]
  },
  {
   "cell_type": "code",
   "execution_count": 144,
   "metadata": {},
   "outputs": [
    {
     "data": {
      "text/plain": [
       "['KK_KUNDENTYP']"
      ]
     },
     "execution_count": 144,
     "metadata": {},
     "output_type": "execute_result"
    }
   ],
   "source": [
    "# define threshold, might be different to the threshold in Part 1\n",
    "# output shows that other features than in Part 1 should be dropped\n",
    "drop_missing_per_column = missing_per_column[missing_per_column > 0.25].index\n",
    "drop_missing_per_column = list(set(drop_missing_per_column) - set(features_not_described))\n",
    "drop_missing_per_column"
   ]
  },
  {
   "cell_type": "code",
   "execution_count": 145,
   "metadata": {},
   "outputs": [
    {
     "data": {
      "text/plain": [
       "(42962, 331)"
      ]
     },
     "execution_count": 145,
     "metadata": {},
     "output_type": "execute_result"
    }
   ],
   "source": [
    "# clean data, no splitting of rows necessary\n",
    "mailout_train = clean_data(mailout_train, feat_info, features_not_described, drop_missing_per_column)\n",
    "mailout_train.shape"
   ]
  },
  {
   "cell_type": "code",
   "execution_count": 146,
   "metadata": {},
   "outputs": [],
   "source": [
    "# impute median and scale azdias\n",
    "imputer = Imputer(strategy='median')\n",
    "scaler = StandardScaler()"
   ]
  },
  {
   "cell_type": "code",
   "execution_count": 147,
   "metadata": {},
   "outputs": [],
   "source": [
    "mailout_train_imputed = pd.DataFrame(imputer.fit_transform(mailout_train))\n",
    "mailout_train_scaled = scaler.fit_transform(mailout_train_imputed)"
   ]
  },
  {
   "cell_type": "markdown",
   "metadata": {},
   "source": [
    "### Classification"
   ]
  },
  {
   "cell_type": "markdown",
   "metadata": {},
   "source": [
    "First step to find a model with an adequate classification performance is testing several classification algorithms in their basic form, i.e. without tuning."
   ]
  },
  {
   "cell_type": "code",
   "execution_count": 148,
   "metadata": {},
   "outputs": [],
   "source": [
    "def classify(clf, param_grid, X_train=mailout_train_scaled, y_train=response):\n",
    "    \"\"\"\n",
    "    Fits a classifier to its training data and prints its ROC AUC score.\n",
    "    \n",
    "    INPUT:\n",
    "    - clf (classifier): classifier to fit\n",
    "    - param_grid (dict): classifier parameters used with GridSearchCV\n",
    "    - X_train (DataFrame): training input\n",
    "    - y_train (DataFrame): training output\n",
    "            \n",
    "    OUTPUT:\n",
    "    - classifier: input classifier fitted to the training data\n",
    "    \"\"\"\n",
    "    \n",
    "    # cv uses StratifiedKFold\n",
    "    # scoring roc_auc available as parameter\n",
    "    grid = GridSearchCV(estimator=clf, param_grid=param_grid, scoring='roc_auc', cv=5)\n",
    "    grid.fit(X_train, y_train)\n",
    "    print(grid.best_score_)\n",
    "    \n",
    "    return grid.best_estimator_"
   ]
  },
  {
   "cell_type": "code",
   "execution_count": 149,
   "metadata": {},
   "outputs": [
    {
     "name": "stdout",
     "output_type": "stream",
     "text": [
      "0.737154191316\n"
     ]
    },
    {
     "data": {
      "text/plain": [
       "LogisticRegression(C=1.0, class_weight=None, dual=False, fit_intercept=True,\n",
       "          intercept_scaling=1, max_iter=100, multi_class='ovr', n_jobs=1,\n",
       "          penalty='l2', random_state=12, solver='liblinear', tol=0.0001,\n",
       "          verbose=0, warm_start=False)"
      ]
     },
     "execution_count": 149,
     "metadata": {},
     "output_type": "execute_result"
    }
   ],
   "source": [
    "# LogisticRegression\n",
    "lor = LogisticRegression(random_state=12)\n",
    "classify(lor, {})"
   ]
  },
  {
   "cell_type": "code",
   "execution_count": 150,
   "metadata": {},
   "outputs": [
    {
     "name": "stdout",
     "output_type": "stream",
     "text": [
      "0.575484853724\n"
     ]
    },
    {
     "data": {
      "text/plain": [
       "BaggingClassifier(base_estimator=None, bootstrap=True,\n",
       "         bootstrap_features=False, max_features=1.0, max_samples=1.0,\n",
       "         n_estimators=10, n_jobs=1, oob_score=False, random_state=12,\n",
       "         verbose=0, warm_start=False)"
      ]
     },
     "execution_count": 150,
     "metadata": {},
     "output_type": "execute_result"
    }
   ],
   "source": [
    "# BaggingClassifier\n",
    "bac = BaggingClassifier(random_state=12)\n",
    "classify(bac, {})"
   ]
  },
  {
   "cell_type": "code",
   "execution_count": 151,
   "metadata": {},
   "outputs": [
    {
     "name": "stdout",
     "output_type": "stream",
     "text": [
      "0.550600827625\n"
     ]
    },
    {
     "data": {
      "text/plain": [
       "RandomForestClassifier(bootstrap=True, class_weight=None, criterion='gini',\n",
       "            max_depth=None, max_features='auto', max_leaf_nodes=None,\n",
       "            min_impurity_decrease=0.0, min_impurity_split=None,\n",
       "            min_samples_leaf=1, min_samples_split=2,\n",
       "            min_weight_fraction_leaf=0.0, n_estimators=10, n_jobs=1,\n",
       "            oob_score=False, random_state=12, verbose=0, warm_start=False)"
      ]
     },
     "execution_count": 151,
     "metadata": {},
     "output_type": "execute_result"
    }
   ],
   "source": [
    "# RandomForestClassifier\n",
    "rfc = RandomForestClassifier(random_state=12)\n",
    "classify(rfc, {})"
   ]
  },
  {
   "cell_type": "code",
   "execution_count": 152,
   "metadata": {},
   "outputs": [
    {
     "name": "stdout",
     "output_type": "stream",
     "text": [
      "0.74375389218\n"
     ]
    }
   ],
   "source": [
    "# AdaBoostClassifier\n",
    "abc = AdaBoostClassifier(random_state=12)\n",
    "abc_best_est = classify(abc, {})"
   ]
  },
  {
   "cell_type": "code",
   "execution_count": 153,
   "metadata": {},
   "outputs": [
    {
     "name": "stdout",
     "output_type": "stream",
     "text": [
      "0.760801959266\n"
     ]
    },
    {
     "data": {
      "text/plain": [
       "GradientBoostingClassifier(criterion='friedman_mse', init=None,\n",
       "              learning_rate=0.1, loss='deviance', max_depth=3,\n",
       "              max_features=None, max_leaf_nodes=None,\n",
       "              min_impurity_decrease=0.0, min_impurity_split=None,\n",
       "              min_samples_leaf=1, min_samples_split=2,\n",
       "              min_weight_fraction_leaf=0.0, n_estimators=100,\n",
       "              presort='auto', random_state=12, subsample=1.0, verbose=0,\n",
       "              warm_start=False)"
      ]
     },
     "execution_count": 153,
     "metadata": {},
     "output_type": "execute_result"
    }
   ],
   "source": [
    "# GradientBoostingClassifier\n",
    "gbc = GradientBoostingClassifier(random_state=12)\n",
    "classify(gbc, {})"
   ]
  },
  {
   "cell_type": "markdown",
   "metadata": {},
   "source": [
    "### Model Tuning"
   ]
  },
  {
   "cell_type": "code",
   "execution_count": 154,
   "metadata": {},
   "outputs": [
    {
     "name": "stdout",
     "output_type": "stream",
     "text": [
      "0.770805086873\n"
     ]
    },
    {
     "data": {
      "text/plain": [
       "GradientBoostingClassifier(criterion='friedman_mse', init=None,\n",
       "              learning_rate=0.1, loss='exponential', max_depth=2,\n",
       "              max_features=None, max_leaf_nodes=None,\n",
       "              min_impurity_decrease=0.0, min_impurity_split=None,\n",
       "              min_samples_leaf=1, min_samples_split=2,\n",
       "              min_weight_fraction_leaf=0.0, n_estimators=80,\n",
       "              presort='auto', random_state=12, subsample=1.0, verbose=0,\n",
       "              warm_start=False)"
      ]
     },
     "execution_count": 154,
     "metadata": {},
     "output_type": "execute_result"
    }
   ],
   "source": [
    "# tune the most promising classifier with the help of GridSearchCV\n",
    "# the result is our model that will be used with the test set\n",
    "gbc = GradientBoostingClassifier(random_state=12)\n",
    "param_grid = {'loss': ['deviance', 'exponential'],\n",
    "              'max_depth': [2, 3],\n",
    "              'n_estimators':[80],\n",
    "              'random_state': [12]\n",
    "             }\n",
    "\n",
    "gbc_best_est = classify(gbc, param_grid)\n",
    "gbc_best_est"
   ]
  },
  {
   "cell_type": "markdown",
   "metadata": {},
   "source": [
    "### Feature Selection"
   ]
  },
  {
   "cell_type": "code",
   "execution_count": 155,
   "metadata": {},
   "outputs": [
    {
     "data": {
      "text/html": [
       "<div>\n",
       "<style scoped>\n",
       "    .dataframe tbody tr th:only-of-type {\n",
       "        vertical-align: middle;\n",
       "    }\n",
       "\n",
       "    .dataframe tbody tr th {\n",
       "        vertical-align: top;\n",
       "    }\n",
       "\n",
       "    .dataframe thead th {\n",
       "        text-align: right;\n",
       "    }\n",
       "</style>\n",
       "<table border=\"1\" class=\"dataframe\">\n",
       "  <thead>\n",
       "    <tr style=\"text-align: right;\">\n",
       "      <th></th>\n",
       "      <th>FI</th>\n",
       "    </tr>\n",
       "  </thead>\n",
       "  <tbody>\n",
       "    <tr>\n",
       "      <th>D19_SOZIALES</th>\n",
       "      <td>0.185134</td>\n",
       "    </tr>\n",
       "    <tr>\n",
       "      <th>ANZ_KINDER</th>\n",
       "      <td>0.074132</td>\n",
       "    </tr>\n",
       "    <tr>\n",
       "      <th>D19_BANKEN_LOKAL</th>\n",
       "      <td>0.061682</td>\n",
       "    </tr>\n",
       "    <tr>\n",
       "      <th>D19_GARTEN</th>\n",
       "      <td>0.052955</td>\n",
       "    </tr>\n",
       "    <tr>\n",
       "      <th>GEBURTSJAHR</th>\n",
       "      <td>0.038139</td>\n",
       "    </tr>\n",
       "    <tr>\n",
       "      <th>D19_VERSI_ONLINE_QUOTE_12</th>\n",
       "      <td>0.030483</td>\n",
       "    </tr>\n",
       "    <tr>\n",
       "      <th>EINGEZOGENAM_HH_JAHR</th>\n",
       "      <td>0.027396</td>\n",
       "    </tr>\n",
       "    <tr>\n",
       "      <th>MIN_GEBAEUDEJAHR</th>\n",
       "      <td>0.025239</td>\n",
       "    </tr>\n",
       "    <tr>\n",
       "      <th>NaN</th>\n",
       "      <td>0.021139</td>\n",
       "    </tr>\n",
       "    <tr>\n",
       "      <th>D19_TECHNIK</th>\n",
       "      <td>0.019201</td>\n",
       "    </tr>\n",
       "  </tbody>\n",
       "</table>\n",
       "</div>"
      ],
      "text/plain": [
       "                                 FI\n",
       "D19_SOZIALES               0.185134\n",
       "ANZ_KINDER                 0.074132\n",
       "D19_BANKEN_LOKAL           0.061682\n",
       "D19_GARTEN                 0.052955\n",
       "GEBURTSJAHR                0.038139\n",
       "D19_VERSI_ONLINE_QUOTE_12  0.030483\n",
       "EINGEZOGENAM_HH_JAHR       0.027396\n",
       "MIN_GEBAEUDEJAHR           0.025239\n",
       "NaN                        0.021139\n",
       "D19_TECHNIK                0.019201"
      ]
     },
     "execution_count": 155,
     "metadata": {},
     "output_type": "execute_result"
    }
   ],
   "source": [
    "# analyse the most important features of the model\n",
    "fi = pd.DataFrame({'FI':gbc_best_est.feature_importances_}, index=mailout_train.columns)\n",
    "fi_sorted = fi.sort_values(by=['FI'], ascending=False)\n",
    "fi_sorted.head(10)"
   ]
  },
  {
   "cell_type": "markdown",
   "metadata": {},
   "source": [
    "## Part 3: Kaggle Competition\n",
    "\n",
    "Now that you've created a model to predict which individuals are most likely to respond to a mailout campaign, it's time to test that model in competition through Kaggle. If you click on the link [here](http://www.kaggle.com/t/21e6d45d4c574c7fa2d868f0e8c83140), you'll be taken to the competition page where, if you have a Kaggle account, you can enter. If you're one of the top performers, you may have the chance to be contacted by a hiring manager from Arvato or Bertelsmann for an interview!\n",
    "\n",
    "Your entry to the competition should be a CSV file with two columns. The first column should be a copy of \"LNR\", which acts as an ID number for each individual in the \"TEST\" partition. The second column, \"RESPONSE\", should be some measure of how likely each individual became a customer – this might not be a straightforward probability. As you should have found in Part 2, there is a large output class imbalance, where most individuals did not respond to the mailout. Thus, predicting individual classes and using accuracy does not seem to be an appropriate performance evaluation method. Instead, the competition will be using AUC to evaluate performance. The exact values of the \"RESPONSE\" column do not matter as much: only that the higher values try to capture as many of the actual customers as possible, early in the ROC curve sweep."
   ]
  },
  {
   "cell_type": "markdown",
   "metadata": {},
   "source": [
    "### Read in data and basic evaluation "
   ]
  },
  {
   "cell_type": "code",
   "execution_count": 156,
   "metadata": {},
   "outputs": [
    {
     "name": "stderr",
     "output_type": "stream",
     "text": [
      "/opt/conda/lib/python3.6/site-packages/IPython/core/interactiveshell.py:2785: DtypeWarning: Columns (18,19) have mixed types. Specify dtype option on import or set low_memory=False.\n",
      "  interactivity=interactivity, compiler=compiler, result=result)\n"
     ]
    }
   ],
   "source": [
    "mailout_test = pd.read_csv('../../data/Term2/capstone/arvato_data/Udacity_MAILOUT_052018_TEST.csv', sep=';')"
   ]
  },
  {
   "cell_type": "code",
   "execution_count": 157,
   "metadata": {},
   "outputs": [
    {
     "name": "stdout",
     "output_type": "stream",
     "text": [
      "<class 'pandas.core.frame.DataFrame'>\n",
      "RangeIndex: 42833 entries, 0 to 42832\n",
      "Columns: 366 entries, LNR to ALTERSKATEGORIE_GROB\n",
      "dtypes: float64(267), int64(93), object(6)\n",
      "memory usage: 119.6+ MB\n"
     ]
    }
   ],
   "source": [
    "mailout_test.info()"
   ]
  },
  {
   "cell_type": "code",
   "execution_count": 158,
   "metadata": {},
   "outputs": [
    {
     "data": {
      "text/html": [
       "<div>\n",
       "<style scoped>\n",
       "    .dataframe tbody tr th:only-of-type {\n",
       "        vertical-align: middle;\n",
       "    }\n",
       "\n",
       "    .dataframe tbody tr th {\n",
       "        vertical-align: top;\n",
       "    }\n",
       "\n",
       "    .dataframe thead th {\n",
       "        text-align: right;\n",
       "    }\n",
       "</style>\n",
       "<table border=\"1\" class=\"dataframe\">\n",
       "  <thead>\n",
       "    <tr style=\"text-align: right;\">\n",
       "      <th></th>\n",
       "      <th>LNR</th>\n",
       "      <th>AGER_TYP</th>\n",
       "      <th>AKT_DAT_KL</th>\n",
       "      <th>ALTER_HH</th>\n",
       "      <th>ALTER_KIND1</th>\n",
       "      <th>ALTER_KIND2</th>\n",
       "      <th>ALTER_KIND3</th>\n",
       "      <th>ALTER_KIND4</th>\n",
       "      <th>ALTERSKATEGORIE_FEIN</th>\n",
       "      <th>ANZ_HAUSHALTE_AKTIV</th>\n",
       "      <th>...</th>\n",
       "      <th>VHN</th>\n",
       "      <th>VK_DHT4A</th>\n",
       "      <th>VK_DISTANZ</th>\n",
       "      <th>VK_ZG11</th>\n",
       "      <th>W_KEIT_KIND_HH</th>\n",
       "      <th>WOHNDAUER_2008</th>\n",
       "      <th>WOHNLAGE</th>\n",
       "      <th>ZABEOTYP</th>\n",
       "      <th>ANREDE_KZ</th>\n",
       "      <th>ALTERSKATEGORIE_GROB</th>\n",
       "    </tr>\n",
       "  </thead>\n",
       "  <tbody>\n",
       "    <tr>\n",
       "      <th>0</th>\n",
       "      <td>1754</td>\n",
       "      <td>2</td>\n",
       "      <td>1.0</td>\n",
       "      <td>7.0</td>\n",
       "      <td>NaN</td>\n",
       "      <td>NaN</td>\n",
       "      <td>NaN</td>\n",
       "      <td>NaN</td>\n",
       "      <td>6.0</td>\n",
       "      <td>2.0</td>\n",
       "      <td>...</td>\n",
       "      <td>4.0</td>\n",
       "      <td>5.0</td>\n",
       "      <td>6.0</td>\n",
       "      <td>3.0</td>\n",
       "      <td>6.0</td>\n",
       "      <td>9.0</td>\n",
       "      <td>3.0</td>\n",
       "      <td>3</td>\n",
       "      <td>1</td>\n",
       "      <td>4</td>\n",
       "    </tr>\n",
       "    <tr>\n",
       "      <th>1</th>\n",
       "      <td>1770</td>\n",
       "      <td>-1</td>\n",
       "      <td>1.0</td>\n",
       "      <td>0.0</td>\n",
       "      <td>NaN</td>\n",
       "      <td>NaN</td>\n",
       "      <td>NaN</td>\n",
       "      <td>NaN</td>\n",
       "      <td>0.0</td>\n",
       "      <td>20.0</td>\n",
       "      <td>...</td>\n",
       "      <td>1.0</td>\n",
       "      <td>5.0</td>\n",
       "      <td>2.0</td>\n",
       "      <td>1.0</td>\n",
       "      <td>6.0</td>\n",
       "      <td>9.0</td>\n",
       "      <td>5.0</td>\n",
       "      <td>3</td>\n",
       "      <td>1</td>\n",
       "      <td>4</td>\n",
       "    </tr>\n",
       "    <tr>\n",
       "      <th>2</th>\n",
       "      <td>1465</td>\n",
       "      <td>2</td>\n",
       "      <td>9.0</td>\n",
       "      <td>16.0</td>\n",
       "      <td>NaN</td>\n",
       "      <td>NaN</td>\n",
       "      <td>NaN</td>\n",
       "      <td>NaN</td>\n",
       "      <td>11.0</td>\n",
       "      <td>2.0</td>\n",
       "      <td>...</td>\n",
       "      <td>3.0</td>\n",
       "      <td>9.0</td>\n",
       "      <td>6.0</td>\n",
       "      <td>3.0</td>\n",
       "      <td>2.0</td>\n",
       "      <td>9.0</td>\n",
       "      <td>4.0</td>\n",
       "      <td>3</td>\n",
       "      <td>2</td>\n",
       "      <td>4</td>\n",
       "    </tr>\n",
       "    <tr>\n",
       "      <th>3</th>\n",
       "      <td>1470</td>\n",
       "      <td>-1</td>\n",
       "      <td>7.0</td>\n",
       "      <td>0.0</td>\n",
       "      <td>NaN</td>\n",
       "      <td>NaN</td>\n",
       "      <td>NaN</td>\n",
       "      <td>NaN</td>\n",
       "      <td>0.0</td>\n",
       "      <td>1.0</td>\n",
       "      <td>...</td>\n",
       "      <td>2.0</td>\n",
       "      <td>6.0</td>\n",
       "      <td>6.0</td>\n",
       "      <td>3.0</td>\n",
       "      <td>NaN</td>\n",
       "      <td>9.0</td>\n",
       "      <td>2.0</td>\n",
       "      <td>3</td>\n",
       "      <td>2</td>\n",
       "      <td>4</td>\n",
       "    </tr>\n",
       "    <tr>\n",
       "      <th>4</th>\n",
       "      <td>1478</td>\n",
       "      <td>1</td>\n",
       "      <td>1.0</td>\n",
       "      <td>21.0</td>\n",
       "      <td>NaN</td>\n",
       "      <td>NaN</td>\n",
       "      <td>NaN</td>\n",
       "      <td>NaN</td>\n",
       "      <td>13.0</td>\n",
       "      <td>1.0</td>\n",
       "      <td>...</td>\n",
       "      <td>1.0</td>\n",
       "      <td>2.0</td>\n",
       "      <td>4.0</td>\n",
       "      <td>3.0</td>\n",
       "      <td>3.0</td>\n",
       "      <td>9.0</td>\n",
       "      <td>7.0</td>\n",
       "      <td>4</td>\n",
       "      <td>2</td>\n",
       "      <td>4</td>\n",
       "    </tr>\n",
       "  </tbody>\n",
       "</table>\n",
       "<p>5 rows × 366 columns</p>\n",
       "</div>"
      ],
      "text/plain": [
       "    LNR  AGER_TYP  AKT_DAT_KL  ALTER_HH  ALTER_KIND1  ALTER_KIND2  \\\n",
       "0  1754         2         1.0       7.0          NaN          NaN   \n",
       "1  1770        -1         1.0       0.0          NaN          NaN   \n",
       "2  1465         2         9.0      16.0          NaN          NaN   \n",
       "3  1470        -1         7.0       0.0          NaN          NaN   \n",
       "4  1478         1         1.0      21.0          NaN          NaN   \n",
       "\n",
       "   ALTER_KIND3  ALTER_KIND4  ALTERSKATEGORIE_FEIN  ANZ_HAUSHALTE_AKTIV  \\\n",
       "0          NaN          NaN                   6.0                  2.0   \n",
       "1          NaN          NaN                   0.0                 20.0   \n",
       "2          NaN          NaN                  11.0                  2.0   \n",
       "3          NaN          NaN                   0.0                  1.0   \n",
       "4          NaN          NaN                  13.0                  1.0   \n",
       "\n",
       "          ...           VHN  VK_DHT4A  VK_DISTANZ  VK_ZG11  W_KEIT_KIND_HH  \\\n",
       "0         ...           4.0       5.0         6.0      3.0             6.0   \n",
       "1         ...           1.0       5.0         2.0      1.0             6.0   \n",
       "2         ...           3.0       9.0         6.0      3.0             2.0   \n",
       "3         ...           2.0       6.0         6.0      3.0             NaN   \n",
       "4         ...           1.0       2.0         4.0      3.0             3.0   \n",
       "\n",
       "   WOHNDAUER_2008  WOHNLAGE ZABEOTYP ANREDE_KZ ALTERSKATEGORIE_GROB  \n",
       "0             9.0       3.0        3         1                    4  \n",
       "1             9.0       5.0        3         1                    4  \n",
       "2             9.0       4.0        3         2                    4  \n",
       "3             9.0       2.0        3         2                    4  \n",
       "4             9.0       7.0        4         2                    4  \n",
       "\n",
       "[5 rows x 366 columns]"
      ]
     },
     "execution_count": 158,
     "metadata": {},
     "output_type": "execute_result"
    }
   ],
   "source": [
    "mailout_test.head()"
   ]
  },
  {
   "cell_type": "markdown",
   "metadata": {},
   "source": [
    "### Data Preprocessing"
   ]
  },
  {
   "cell_type": "code",
   "execution_count": 159,
   "metadata": {},
   "outputs": [],
   "source": [
    "# extract lnr for later generation of the competition result file\n",
    "lnr = mailout_test.LNR"
   ]
  },
  {
   "cell_type": "code",
   "execution_count": 160,
   "metadata": {},
   "outputs": [
    {
     "data": {
      "text/plain": [
       "(42833, 331)"
      ]
     },
     "execution_count": 160,
     "metadata": {},
     "output_type": "execute_result"
    }
   ],
   "source": [
    "# clean data\n",
    "mailout_test = clean_data(mailout_test, feat_info, features_not_described, drop_missing_per_column)\n",
    "mailout_test.shape"
   ]
  },
  {
   "cell_type": "code",
   "execution_count": 161,
   "metadata": {},
   "outputs": [],
   "source": [
    "# impute median and scale azdias \n",
    "mailout_test_imputed = pd.DataFrame(imputer.transform(mailout_test))\n",
    "mailout_test_scaled = scaler.transform(mailout_test_imputed)"
   ]
  },
  {
   "cell_type": "markdown",
   "metadata": {},
   "source": [
    "### Classification"
   ]
  },
  {
   "cell_type": "code",
   "execution_count": 162,
   "metadata": {},
   "outputs": [
    {
     "data": {
      "text/plain": [
       "array([[ 0.96854307,  0.03145693],\n",
       "       [ 0.96705533,  0.03294467],\n",
       "       [ 0.99737381,  0.00262619],\n",
       "       ..., \n",
       "       [ 0.97917688,  0.02082312],\n",
       "       [ 0.97017272,  0.02982728],\n",
       "       [ 0.97868521,  0.02131479]])"
      ]
     },
     "execution_count": 162,
     "metadata": {},
     "output_type": "execute_result"
    }
   ],
   "source": [
    "# use the trained model from Part 2 to predict the probabilties of the testing data \n",
    "response_test = gbc_best_est.predict_proba(mailout_test_scaled)\n",
    "response_test"
   ]
  },
  {
   "cell_type": "markdown",
   "metadata": {},
   "source": [
    "### Output file for Kaggle competition"
   ]
  },
  {
   "cell_type": "code",
   "execution_count": 163,
   "metadata": {},
   "outputs": [
    {
     "data": {
      "text/html": [
       "<div>\n",
       "<style scoped>\n",
       "    .dataframe tbody tr th:only-of-type {\n",
       "        vertical-align: middle;\n",
       "    }\n",
       "\n",
       "    .dataframe tbody tr th {\n",
       "        vertical-align: top;\n",
       "    }\n",
       "\n",
       "    .dataframe thead th {\n",
       "        text-align: right;\n",
       "    }\n",
       "</style>\n",
       "<table border=\"1\" class=\"dataframe\">\n",
       "  <thead>\n",
       "    <tr style=\"text-align: right;\">\n",
       "      <th></th>\n",
       "      <th>LNR</th>\n",
       "      <th>RESPONSE</th>\n",
       "    </tr>\n",
       "  </thead>\n",
       "  <tbody>\n",
       "    <tr>\n",
       "      <th>0</th>\n",
       "      <td>1754</td>\n",
       "      <td>0.968543</td>\n",
       "    </tr>\n",
       "    <tr>\n",
       "      <th>1</th>\n",
       "      <td>1770</td>\n",
       "      <td>0.967055</td>\n",
       "    </tr>\n",
       "    <tr>\n",
       "      <th>2</th>\n",
       "      <td>1465</td>\n",
       "      <td>0.997374</td>\n",
       "    </tr>\n",
       "    <tr>\n",
       "      <th>3</th>\n",
       "      <td>1470</td>\n",
       "      <td>0.998160</td>\n",
       "    </tr>\n",
       "    <tr>\n",
       "      <th>4</th>\n",
       "      <td>1478</td>\n",
       "      <td>0.998010</td>\n",
       "    </tr>\n",
       "    <tr>\n",
       "      <th>5</th>\n",
       "      <td>1782</td>\n",
       "      <td>0.996842</td>\n",
       "    </tr>\n",
       "    <tr>\n",
       "      <th>6</th>\n",
       "      <td>1485</td>\n",
       "      <td>0.997991</td>\n",
       "    </tr>\n",
       "    <tr>\n",
       "      <th>7</th>\n",
       "      <td>1519</td>\n",
       "      <td>0.975194</td>\n",
       "    </tr>\n",
       "    <tr>\n",
       "      <th>8</th>\n",
       "      <td>1835</td>\n",
       "      <td>0.978374</td>\n",
       "    </tr>\n",
       "    <tr>\n",
       "      <th>9</th>\n",
       "      <td>1522</td>\n",
       "      <td>0.997248</td>\n",
       "    </tr>\n",
       "  </tbody>\n",
       "</table>\n",
       "</div>"
      ],
      "text/plain": [
       "    LNR  RESPONSE\n",
       "0  1754  0.968543\n",
       "1  1770  0.967055\n",
       "2  1465  0.997374\n",
       "3  1470  0.998160\n",
       "4  1478  0.998010\n",
       "5  1782  0.996842\n",
       "6  1485  0.997991\n",
       "7  1519  0.975194\n",
       "8  1835  0.978374\n",
       "9  1522  0.997248"
      ]
     },
     "execution_count": 163,
     "metadata": {},
     "output_type": "execute_result"
    }
   ],
   "source": [
    "# generate result file for the competition\n",
    "result = pd.DataFrame({'LNR':lnr, 'RESPONSE':response_test[:,0]})\n",
    "result.to_csv(path_or_buf='./result.csv', index=False)\n",
    "result.head(10)"
   ]
  }
 ],
 "metadata": {
  "kernelspec": {
   "display_name": "Python 3",
   "language": "python",
   "name": "python3"
  },
  "language_info": {
   "codemirror_mode": {
    "name": "ipython",
    "version": 3
   },
   "file_extension": ".py",
   "mimetype": "text/x-python",
   "name": "python",
   "nbconvert_exporter": "python",
   "pygments_lexer": "ipython3",
   "version": "3.6.3"
  }
 },
 "nbformat": 4,
 "nbformat_minor": 2
}
